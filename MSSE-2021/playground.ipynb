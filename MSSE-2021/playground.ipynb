{
 "cells": [
  {
   "cell_type": "code",
   "execution_count": 1,
   "id": "1ec03762",
   "metadata": {
    "ExecuteTime": {
     "end_time": "2022-09-04T07:30:45.486217Z",
     "start_time": "2022-09-04T07:30:43.486517Z"
    }
   },
   "outputs": [
    {
     "name": "stdout",
     "output_type": "stream",
     "text": [
      "WARNING:tensorflow:Deprecation warnings have been disabled. Set TF_ENABLE_DEPRECATION_WARNINGS=1 to re-enable them.\n"
     ]
    },
    {
     "name": "stderr",
     "output_type": "stream",
     "text": [
      "2022-09-04 02:30:43.793681: I tensorflow/stream_executor/platform/default/dso_loader.cc:49] Successfully opened dynamic library libcudart.so.11.0\n"
     ]
    }
   ],
   "source": [
    "from commons import input_iterator\n",
    "import pandas as pd\n",
    "import os\n",
    "import datetime\n",
    "import gzip\n",
    "import glob\n",
    "import h5py\n",
    "import numpy as np\n",
    "from tqdm import tqdm\n",
    "from pathlib import Path\n",
    "import shutil\n",
    "import multiprocessing\n",
    "from sklearn.metrics import accuracy_score"
   ]
  },
  {
   "cell_type": "code",
   "execution_count": 2,
   "id": "2d850155",
   "metadata": {
    "ExecuteTime": {
     "end_time": "2022-09-04T07:54:46.567763Z",
     "start_time": "2022-09-04T07:30:48.658292Z"
    }
   },
   "outputs": [
    {
     "name": "stderr",
     "output_type": "stream",
     "text": [
      "100%|██████████| 213/213 [23:57<00:00,  6.75s/it]\n"
     ]
    }
   ],
   "source": [
    "df_split = pd.read_csv(\"/mnt/nfs/niddk/ACT_final_randomization_5-13-2019.csv\")\n",
    "\n",
    "test_ids = df_split[df_split['Randomization'] == 'test']['ID']\n",
    "\n",
    "all_data = glob.glob(\"/mnt/nfs/niddk/ACT_30HZ_CSV_preprocessed/*/*\")\n",
    "\n",
    "test_files = sorted([x for x in all_data if int(os.path.basename(x)) in set(test_ids)])\n",
    "\n",
    "out_root = \"/mnt/nfs/niddk/ACT_30HZ_CSV_preprocessed_sampled\"\n",
    "shutil.rmtree(out_root, ignore_errors=True)\n",
    "os.makedirs(out_root)\n",
    "partition = 8\n",
    "def apply_fn(x):\n",
    "    i = x[0]\n",
    "    test_dir = x[1]\n",
    "    out_dir = os.path.join(out_root, str(i % partition))\n",
    "    oid = os.path.basename(test_dir)\n",
    "    dirname = os.path.dirname(test_dir)\n",
    "    fnames = [name.split('.')[0] for name in os.listdir(test_dir) if not name.startswith('.')]\n",
    "    fnames.sort()\n",
    "    for i in range(len(fnames) - 1):\n",
    "        assert datetime.datetime.strptime(fnames[i+1], \"%Y-%m-%d\").date() - datetime.datetime.strptime(fnames[i], \"%Y-%m-%d\").date() == datetime.timedelta(days=1)\n",
    "    \n",
    "    for i, fname in enumerate(fnames):\n",
    "        h5f = h5py.File(os.path.join(test_dir, '{}.h5'.format(fname)), 'r')\n",
    "        if i == 0:\n",
    "            timestamps = h5f.get('time')[:]\n",
    "            data = h5f.get('data')[:]\n",
    "            sleeping = h5f.get('sleeping')[:]\n",
    "            non_wear = h5f.get('non_wear')[:]\n",
    "            label = h5f.get('label')[:]\n",
    "        else:\n",
    "            timestamps = np.concatenate((timestamps, h5f.get('time')[:]))\n",
    "            data = np.concatenate((data, h5f.get('data')[:]))\n",
    "            sleeping = np.concatenate((sleeping, h5f.get('sleeping')[:]))\n",
    "            non_wear = np.concatenate((non_wear, h5f.get('non_wear')[:]))\n",
    "            label = np.concatenate((label, h5f.get('label')[:]))\n",
    "    labeld_indices = np.where(label != -1)[0]\n",
    "    sampled_indices = np.random.choice(labeld_indices, 100, replace=False) \n",
    "    interval = 10\n",
    "    desired = 14 * 60\n",
    "    first_half = 7 * 60\n",
    "    need = desired // interval\n",
    "    for idx in sampled_indices:\n",
    "        sublabel = label[idx:idx + need]\n",
    "    #     all labeld and enough\n",
    "        if sublabel.shape[0] == need and np.where(sublabel == -1)[0].shape[0] == 0:\n",
    "            for offset in np.array([x for x in range(1, 8)]) * 6 + first_half // interval:\n",
    "    #             print(offset)\n",
    "                sub_timestamps = timestamps[idx:idx + offset]\n",
    "                sub_data = data[idx:idx + offset]\n",
    "                sub_sleeping = sleeping[idx:idx + offset]\n",
    "                sub_non_wear = non_wear[idx:idx + offset]\n",
    "                sub_label = label[idx:idx + offset]\n",
    "                \n",
    "                name = \"{}_{}_{}\".format(oid, idx, offset)\n",
    "                dummy_name = fnames[0] + '.h5'\n",
    "                sample_out_dir = os.path.join(out_dir, name)\n",
    "                Path(sample_out_dir).mkdir(parents=True, exist_ok=True)\n",
    "                out_filename = os.path.join(sample_out_dir, dummy_name)\n",
    "                h5f_out = h5py.File(out_filename, \"w\")\n",
    "                h5f_out.create_dataset('time', data=sub_timestamps, chunks=True, maxshape=(None,))\n",
    "                h5f_out.create_dataset('data', data=sub_data, chunks=True, maxshape=(None, 100, 3))\n",
    "                h5f_out.create_dataset('non_wear', data=sub_non_wear, chunks=True, maxshape=(None,))\n",
    "                h5f_out.create_dataset('sleeping', data=sub_sleeping, chunks=True, maxshape=(None,))\n",
    "                h5f_out.create_dataset('label', data=sub_label, chunks=True, maxshape=(None,))\n",
    "                h5f_out.close()\n",
    "\n",
    "pool = multiprocessing.Pool(processes=40)\n",
    "mapped_values = list(tqdm(\n",
    "    pool.imap_unordered(apply_fn, list(enumerate(test_files))), total=len(test_files)))\n",
    "pool.close()\n",
    "pool.join()\n",
    "\n",
    "    "
   ]
  },
  {
   "cell_type": "code",
   "execution_count": null,
   "id": "d4f7ec99",
   "metadata": {},
   "outputs": [],
   "source": []
  },
  {
   "cell_type": "code",
   "execution_count": 68,
   "id": "f28a0dfc",
   "metadata": {
    "ExecuteTime": {
     "end_time": "2022-09-04T07:16:07.964753Z",
     "start_time": "2022-09-04T07:16:07.956003Z"
    }
   },
   "outputs": [],
   "source": [
    "h5f = h5py.File(\"/mnt/nfs/niddk/ACT_30HZ_CSV_preprocessed_sampled/7/151667_120933_48/2017-10-23.h5\", 'r')"
   ]
  },
  {
   "cell_type": "code",
   "execution_count": 71,
   "id": "ab7dad54",
   "metadata": {
    "ExecuteTime": {
     "end_time": "2022-09-04T07:16:37.359580Z",
     "start_time": "2022-09-04T07:16:37.348295Z"
    }
   },
   "outputs": [
    {
     "data": {
      "text/plain": [
       "27"
      ]
     },
     "execution_count": 71,
     "metadata": {},
     "output_type": "execute_result"
    }
   ],
   "source": [
    "len(h5f.get('label')[:])"
   ]
  },
  {
   "cell_type": "code",
   "execution_count": null,
   "id": "4462870c",
   "metadata": {},
   "outputs": [],
   "source": []
  },
  {
   "cell_type": "code",
   "execution_count": 5,
   "id": "1796a3db",
   "metadata": {
    "ExecuteTime": {
     "end_time": "2022-09-04T08:07:53.654843Z",
     "start_time": "2022-09-04T08:00:03.786049Z"
    }
   },
   "outputs": [
    {
     "name": "stderr",
     "output_type": "stream",
     "text": [
      "  6%|▋         | 1832/28185 [07:44<1:51:21,  3.94it/s]\n"
     ]
    },
    {
     "ename": "KeyboardInterrupt",
     "evalue": "",
     "output_type": "error",
     "traceback": [
      "\u001b[0;31m---------------------------------------------------------------------------\u001b[0m",
      "\u001b[0;31mKeyboardInterrupt\u001b[0m                         Traceback (most recent call last)",
      "Input \u001b[0;32mIn [5]\u001b[0m, in \u001b[0;36m<cell line: 7>\u001b[0;34m()\u001b[0m\n\u001b[1;32m     15\u001b[0m df[\u001b[38;5;124m'\u001b[39m\u001b[38;5;124moffset\u001b[39m\u001b[38;5;124m'\u001b[39m] \u001b[38;5;241m=\u001b[39m offset\n\u001b[1;32m     17\u001b[0m df_all_first \u001b[38;5;241m=\u001b[39m pd\u001b[38;5;241m.\u001b[39mconcat([df_all_first, df\u001b[38;5;241m.\u001b[39miloc[:\u001b[38;5;241m42\u001b[39m]], ignore_index\u001b[38;5;241m=\u001b[39m\u001b[38;5;28;01mTrue\u001b[39;00m, sort\u001b[38;5;241m=\u001b[39m\u001b[38;5;28;01mFalse\u001b[39;00m)\n\u001b[0;32m---> 18\u001b[0m df_all_sec \u001b[38;5;241m=\u001b[39m \u001b[43mpd\u001b[49m\u001b[38;5;241;43m.\u001b[39;49m\u001b[43mconcat\u001b[49m\u001b[43m(\u001b[49m\u001b[43m[\u001b[49m\u001b[43mdf_all_sec\u001b[49m\u001b[43m,\u001b[49m\u001b[43m \u001b[49m\u001b[43mdf\u001b[49m\u001b[38;5;241;43m.\u001b[39;49m\u001b[43miloc\u001b[49m\u001b[43m[\u001b[49m\u001b[38;5;241;43m42\u001b[39;49m\u001b[43m:\u001b[49m\u001b[43m]\u001b[49m\u001b[43m]\u001b[49m\u001b[43m,\u001b[49m\u001b[43m \u001b[49m\u001b[43mignore_index\u001b[49m\u001b[38;5;241;43m=\u001b[39;49m\u001b[38;5;28;43;01mTrue\u001b[39;49;00m\u001b[43m,\u001b[49m\u001b[43m \u001b[49m\u001b[43msort\u001b[49m\u001b[38;5;241;43m=\u001b[39;49m\u001b[38;5;28;43;01mFalse\u001b[39;49;00m\u001b[43m)\u001b[49m\n",
      "File \u001b[0;32m/usr/local/lib/python3.8/dist-packages/pandas/util/_decorators.py:311\u001b[0m, in \u001b[0;36mdeprecate_nonkeyword_arguments.<locals>.decorate.<locals>.wrapper\u001b[0;34m(*args, **kwargs)\u001b[0m\n\u001b[1;32m    305\u001b[0m \u001b[38;5;28;01mif\u001b[39;00m \u001b[38;5;28mlen\u001b[39m(args) \u001b[38;5;241m>\u001b[39m num_allow_args:\n\u001b[1;32m    306\u001b[0m     warnings\u001b[38;5;241m.\u001b[39mwarn(\n\u001b[1;32m    307\u001b[0m         msg\u001b[38;5;241m.\u001b[39mformat(arguments\u001b[38;5;241m=\u001b[39marguments),\n\u001b[1;32m    308\u001b[0m         \u001b[38;5;167;01mFutureWarning\u001b[39;00m,\n\u001b[1;32m    309\u001b[0m         stacklevel\u001b[38;5;241m=\u001b[39mstacklevel,\n\u001b[1;32m    310\u001b[0m     )\n\u001b[0;32m--> 311\u001b[0m \u001b[38;5;28;01mreturn\u001b[39;00m \u001b[43mfunc\u001b[49m\u001b[43m(\u001b[49m\u001b[38;5;241;43m*\u001b[39;49m\u001b[43margs\u001b[49m\u001b[43m,\u001b[49m\u001b[43m \u001b[49m\u001b[38;5;241;43m*\u001b[39;49m\u001b[38;5;241;43m*\u001b[39;49m\u001b[43mkwargs\u001b[49m\u001b[43m)\u001b[49m\n",
      "File \u001b[0;32m/usr/local/lib/python3.8/dist-packages/pandas/core/reshape/concat.py:360\u001b[0m, in \u001b[0;36mconcat\u001b[0;34m(objs, axis, join, ignore_index, keys, levels, names, verify_integrity, sort, copy)\u001b[0m\n\u001b[1;32m    156\u001b[0m \u001b[38;5;124;03m\"\"\"\u001b[39;00m\n\u001b[1;32m    157\u001b[0m \u001b[38;5;124;03mConcatenate pandas objects along a particular axis with optional set logic\u001b[39;00m\n\u001b[1;32m    158\u001b[0m \u001b[38;5;124;03malong the other axes.\u001b[39;00m\n\u001b[0;32m   (...)\u001b[0m\n\u001b[1;32m    345\u001b[0m \u001b[38;5;124;03mValueError: Indexes have overlapping values: ['a']\u001b[39;00m\n\u001b[1;32m    346\u001b[0m \u001b[38;5;124;03m\"\"\"\u001b[39;00m\n\u001b[1;32m    347\u001b[0m op \u001b[38;5;241m=\u001b[39m _Concatenator(\n\u001b[1;32m    348\u001b[0m     objs,\n\u001b[1;32m    349\u001b[0m     axis\u001b[38;5;241m=\u001b[39maxis,\n\u001b[0;32m   (...)\u001b[0m\n\u001b[1;32m    357\u001b[0m     sort\u001b[38;5;241m=\u001b[39msort,\n\u001b[1;32m    358\u001b[0m )\n\u001b[0;32m--> 360\u001b[0m \u001b[38;5;28;01mreturn\u001b[39;00m \u001b[43mop\u001b[49m\u001b[38;5;241;43m.\u001b[39;49m\u001b[43mget_result\u001b[49m\u001b[43m(\u001b[49m\u001b[43m)\u001b[49m\n",
      "File \u001b[0;32m/usr/local/lib/python3.8/dist-packages/pandas/core/reshape/concat.py:595\u001b[0m, in \u001b[0;36m_Concatenator.get_result\u001b[0;34m(self)\u001b[0m\n\u001b[1;32m    591\u001b[0m             indexers[ax] \u001b[38;5;241m=\u001b[39m obj_labels\u001b[38;5;241m.\u001b[39mget_indexer(new_labels)\n\u001b[1;32m    593\u001b[0m     mgrs_indexers\u001b[38;5;241m.\u001b[39mappend((obj\u001b[38;5;241m.\u001b[39m_mgr, indexers))\n\u001b[0;32m--> 595\u001b[0m new_data \u001b[38;5;241m=\u001b[39m \u001b[43mconcatenate_managers\u001b[49m\u001b[43m(\u001b[49m\n\u001b[1;32m    596\u001b[0m \u001b[43m    \u001b[49m\u001b[43mmgrs_indexers\u001b[49m\u001b[43m,\u001b[49m\u001b[43m \u001b[49m\u001b[38;5;28;43mself\u001b[39;49m\u001b[38;5;241;43m.\u001b[39;49m\u001b[43mnew_axes\u001b[49m\u001b[43m,\u001b[49m\u001b[43m \u001b[49m\u001b[43mconcat_axis\u001b[49m\u001b[38;5;241;43m=\u001b[39;49m\u001b[38;5;28;43mself\u001b[39;49m\u001b[38;5;241;43m.\u001b[39;49m\u001b[43mbm_axis\u001b[49m\u001b[43m,\u001b[49m\u001b[43m \u001b[49m\u001b[43mcopy\u001b[49m\u001b[38;5;241;43m=\u001b[39;49m\u001b[38;5;28;43mself\u001b[39;49m\u001b[38;5;241;43m.\u001b[39;49m\u001b[43mcopy\u001b[49m\n\u001b[1;32m    597\u001b[0m \u001b[43m\u001b[49m\u001b[43m)\u001b[49m\n\u001b[1;32m    598\u001b[0m \u001b[38;5;28;01mif\u001b[39;00m \u001b[38;5;129;01mnot\u001b[39;00m \u001b[38;5;28mself\u001b[39m\u001b[38;5;241m.\u001b[39mcopy:\n\u001b[1;32m    599\u001b[0m     new_data\u001b[38;5;241m.\u001b[39m_consolidate_inplace()\n",
      "File \u001b[0;32m/usr/local/lib/python3.8/dist-packages/pandas/core/internals/concat.py:232\u001b[0m, in \u001b[0;36mconcatenate_managers\u001b[0;34m(mgrs_indexers, axes, concat_axis, copy)\u001b[0m\n\u001b[1;32m    226\u001b[0m vals \u001b[38;5;241m=\u001b[39m [ju\u001b[38;5;241m.\u001b[39mblock\u001b[38;5;241m.\u001b[39mvalues \u001b[38;5;28;01mfor\u001b[39;00m ju \u001b[38;5;129;01min\u001b[39;00m join_units]\n\u001b[1;32m    228\u001b[0m \u001b[38;5;28;01mif\u001b[39;00m \u001b[38;5;129;01mnot\u001b[39;00m blk\u001b[38;5;241m.\u001b[39mis_extension:\n\u001b[1;32m    229\u001b[0m     \u001b[38;5;66;03m# _is_uniform_join_units ensures a single dtype, so\u001b[39;00m\n\u001b[1;32m    230\u001b[0m     \u001b[38;5;66;03m#  we can use np.concatenate, which is more performant\u001b[39;00m\n\u001b[1;32m    231\u001b[0m     \u001b[38;5;66;03m#  than concat_compat\u001b[39;00m\n\u001b[0;32m--> 232\u001b[0m     values \u001b[38;5;241m=\u001b[39m \u001b[43mnp\u001b[49m\u001b[38;5;241;43m.\u001b[39;49m\u001b[43mconcatenate\u001b[49m\u001b[43m(\u001b[49m\u001b[43mvals\u001b[49m\u001b[43m,\u001b[49m\u001b[43m \u001b[49m\u001b[43maxis\u001b[49m\u001b[38;5;241;43m=\u001b[39;49m\u001b[38;5;241;43m1\u001b[39;49m\u001b[43m)\u001b[49m\n\u001b[1;32m    233\u001b[0m \u001b[38;5;28;01melse\u001b[39;00m:\n\u001b[1;32m    234\u001b[0m     \u001b[38;5;66;03m# TODO(EA2D): special-casing not needed with 2D EAs\u001b[39;00m\n\u001b[1;32m    235\u001b[0m     values \u001b[38;5;241m=\u001b[39m concat_compat(vals, axis\u001b[38;5;241m=\u001b[39m\u001b[38;5;241m1\u001b[39m)\n",
      "File \u001b[0;32m<__array_function__ internals>:5\u001b[0m, in \u001b[0;36mconcatenate\u001b[0;34m(*args, **kwargs)\u001b[0m\n",
      "\u001b[0;31mKeyboardInterrupt\u001b[0m: "
     ]
    }
   ],
   "source": [
    "preds_root = \"/mnt/nfs/niddk/ACT_PREDICTIONS_SAMPLED_WRAP/CHAP_ALL_ADULTS\"\n",
    "\n",
    "all_preds = glob.glob(os.path.join(preds_root, \"*.csv\"))\n",
    "\n",
    "df_all_sec = pd.DataFrame()\n",
    "df_all_first = pd.DataFrame()\n",
    "for predfile in tqdm(all_preds):\n",
    "    filename = os.path.basename(predfile).split('.')[0]\n",
    "    oid, index, offset = filename.split(\"_\")\n",
    "    index = int(index)\n",
    "    offset = int(offset)\n",
    "    df = pd.read_csv(predfile)\n",
    "    df['oid'] = oid\n",
    "    df['index'] = index\n",
    "    df['offset'] = offset\n",
    "    \n",
    "    df_all_first = pd.concat([df_all_first, df.iloc[:42]], ignore_index=True, sort=False)\n",
    "    df_all_sec = pd.concat([df_all_sec, df.iloc[42:]], ignore_index=True, sort=False)\n",
    "\n",
    "#     df_score = df[df['label'] != \"no-label\"]\n",
    "#     print(accuracy_score(df_score['label'], df_score['prediction']))"
   ]
  },
  {
   "cell_type": "code",
   "execution_count": 6,
   "id": "6135a64c",
   "metadata": {
    "ExecuteTime": {
     "end_time": "2022-09-04T08:07:58.672122Z",
     "start_time": "2022-09-04T08:07:58.412583Z"
    }
   },
   "outputs": [
    {
     "name": "stdout",
     "output_type": "stream",
     "text": [
      "0.8320473852388746\n"
     ]
    }
   ],
   "source": [
    "print(accuracy_score(df_all_first['label'], df_all_first['prediction'])) "
   ]
  },
  {
   "cell_type": "code",
   "execution_count": 7,
   "id": "49c90625",
   "metadata": {
    "ExecuteTime": {
     "end_time": "2022-09-04T08:07:59.474296Z",
     "start_time": "2022-09-04T08:07:59.334986Z"
    }
   },
   "outputs": [
    {
     "name": "stdout",
     "output_type": "stream",
     "text": [
      "0.842680608365019\n"
     ]
    }
   ],
   "source": [
    "print(accuracy_score(df_all_sec['label'], df_all_sec['prediction'])) "
   ]
  },
  {
   "cell_type": "code",
   "execution_count": 70,
   "id": "a3db2e45",
   "metadata": {
    "ExecuteTime": {
     "end_time": "2022-09-04T08:21:45.573503Z",
     "start_time": "2022-09-04T08:21:45.542734Z"
    }
   },
   "outputs": [],
   "source": [
    "df_all_sec['correct'] = df_all_sec['label'] == df_all_sec['prediction']\n",
    "df_oid_groupby = df_all_sec.groupby([\"oid\", \"offset\"]).agg({'correct': \"sum\", 'index': \"count\"})\n",
    "df_oid_groupby['acc'] = df_oid_groupby['correct'] / df_oid_groupby['index']"
   ]
  },
  {
   "cell_type": "code",
   "execution_count": 71,
   "id": "77d2d7d7",
   "metadata": {
    "ExecuteTime": {
     "end_time": "2022-09-04T08:21:45.907261Z",
     "start_time": "2022-09-04T08:21:45.779012Z"
    },
    "scrolled": true
   },
   "outputs": [],
   "source": [
    "# df_oid_groupby = df_oid_groupby.reset_index()\n",
    "df_7 = df_oid_groupby[df_oid_groupby.index.get_level_values(1) == 84]"
   ]
  },
  {
   "cell_type": "code",
   "execution_count": 77,
   "id": "02874520",
   "metadata": {
    "ExecuteTime": {
     "end_time": "2022-09-04T08:23:17.538266Z",
     "start_time": "2022-09-04T08:23:17.517157Z"
    }
   },
   "outputs": [],
   "source": [
    "df_rel = df_oid_groupby.reset_index(level=1).merge(df_7[['acc']], on=['oid'], suffixes=('', '7'))"
   ]
  },
  {
   "cell_type": "code",
   "execution_count": 79,
   "id": "ede825cf",
   "metadata": {
    "ExecuteTime": {
     "end_time": "2022-09-04T08:23:50.743411Z",
     "start_time": "2022-09-04T08:23:50.735411Z"
    }
   },
   "outputs": [],
   "source": [
    "df_rel['rel_acc'] = df_rel['acc'] / df_rel['acc7']"
   ]
  },
  {
   "cell_type": "code",
   "execution_count": 81,
   "id": "119498cd",
   "metadata": {
    "ExecuteTime": {
     "end_time": "2022-09-04T08:24:34.766922Z",
     "start_time": "2022-09-04T08:24:34.745068Z"
    }
   },
   "outputs": [
    {
     "data": {
      "text/html": [
       "<div>\n",
       "<style scoped>\n",
       "    .dataframe tbody tr th:only-of-type {\n",
       "        vertical-align: middle;\n",
       "    }\n",
       "\n",
       "    .dataframe tbody tr th {\n",
       "        vertical-align: top;\n",
       "    }\n",
       "\n",
       "    .dataframe thead th {\n",
       "        text-align: right;\n",
       "    }\n",
       "</style>\n",
       "<table border=\"1\" class=\"dataframe\">\n",
       "  <thead>\n",
       "    <tr style=\"text-align: right;\">\n",
       "      <th></th>\n",
       "      <th>acc</th>\n",
       "      <th>rel_acc</th>\n",
       "    </tr>\n",
       "    <tr>\n",
       "      <th>offset</th>\n",
       "      <th></th>\n",
       "      <th></th>\n",
       "    </tr>\n",
       "  </thead>\n",
       "  <tbody>\n",
       "    <tr>\n",
       "      <th>48</th>\n",
       "      <td>0.839569</td>\n",
       "      <td>NaN</td>\n",
       "    </tr>\n",
       "    <tr>\n",
       "      <th>54</th>\n",
       "      <td>0.848205</td>\n",
       "      <td>NaN</td>\n",
       "    </tr>\n",
       "    <tr>\n",
       "      <th>60</th>\n",
       "      <td>0.795652</td>\n",
       "      <td>NaN</td>\n",
       "    </tr>\n",
       "    <tr>\n",
       "      <th>66</th>\n",
       "      <td>0.797129</td>\n",
       "      <td>NaN</td>\n",
       "    </tr>\n",
       "    <tr>\n",
       "      <th>72</th>\n",
       "      <td>0.846106</td>\n",
       "      <td>NaN</td>\n",
       "    </tr>\n",
       "    <tr>\n",
       "      <th>78</th>\n",
       "      <td>0.815014</td>\n",
       "      <td>NaN</td>\n",
       "    </tr>\n",
       "    <tr>\n",
       "      <th>84</th>\n",
       "      <td>0.874690</td>\n",
       "      <td>1.0</td>\n",
       "    </tr>\n",
       "  </tbody>\n",
       "</table>\n",
       "</div>"
      ],
      "text/plain": [
       "             acc  rel_acc\n",
       "offset                   \n",
       "48      0.839569      NaN\n",
       "54      0.848205      NaN\n",
       "60      0.795652      NaN\n",
       "66      0.797129      NaN\n",
       "72      0.846106      NaN\n",
       "78      0.815014      NaN\n",
       "84      0.874690      1.0"
      ]
     },
     "execution_count": 81,
     "metadata": {},
     "output_type": "execute_result"
    }
   ],
   "source": [
    "df_rel.groupby('offset').agg({'acc': \"mean\", 'rel_acc': \"mean\"})"
   ]
  },
  {
   "cell_type": "code",
   "execution_count": 30,
   "id": "03f3cf79",
   "metadata": {
    "ExecuteTime": {
     "end_time": "2022-09-04T08:14:02.161516Z",
     "start_time": "2022-09-04T08:14:02.133559Z"
    }
   },
   "outputs": [],
   "source": [
    "# df_oid_groupby['rel_acc'] = df_oid_groupby['acc'] / df_7['acc']"
   ]
  },
  {
   "cell_type": "code",
   "execution_count": 32,
   "id": "bf585712",
   "metadata": {
    "ExecuteTime": {
     "end_time": "2022-09-04T08:14:15.482558Z",
     "start_time": "2022-09-04T08:14:15.465804Z"
    }
   },
   "outputs": [
    {
     "data": {
      "text/plain": [
       "oid     offset\n",
       "150011  84        1.000000\n",
       "150042  84        1.000000\n",
       "150110  84        1.000000\n",
       "150298  84        1.000000\n",
       "150540  84        0.885714\n",
       "                    ...   \n",
       "98009   84        1.000000\n",
       "98230   84        1.000000\n",
       "98455   84        0.976190\n",
       "99380   84        1.000000\n",
       "99423   84        0.988095\n",
       "Name: acc, Length: 151, dtype: float64"
      ]
     },
     "execution_count": 32,
     "metadata": {},
     "output_type": "execute_result"
    }
   ],
   "source": [
    "df_7['acc']"
   ]
  },
  {
   "cell_type": "code",
   "execution_count": 31,
   "id": "f458ff81",
   "metadata": {
    "ExecuteTime": {
     "end_time": "2022-09-04T08:14:03.906986Z",
     "start_time": "2022-09-04T08:14:03.877869Z"
    }
   },
   "outputs": [
    {
     "data": {
      "text/html": [
       "<div>\n",
       "<style scoped>\n",
       "    .dataframe tbody tr th:only-of-type {\n",
       "        vertical-align: middle;\n",
       "    }\n",
       "\n",
       "    .dataframe tbody tr th {\n",
       "        vertical-align: top;\n",
       "    }\n",
       "\n",
       "    .dataframe thead th {\n",
       "        text-align: right;\n",
       "    }\n",
       "</style>\n",
       "<table border=\"1\" class=\"dataframe\">\n",
       "  <thead>\n",
       "    <tr style=\"text-align: right;\">\n",
       "      <th></th>\n",
       "      <th></th>\n",
       "      <th>correct</th>\n",
       "      <th>index</th>\n",
       "      <th>acc</th>\n",
       "      <th>rel_acc</th>\n",
       "    </tr>\n",
       "    <tr>\n",
       "      <th>oid</th>\n",
       "      <th>offset</th>\n",
       "      <th></th>\n",
       "      <th></th>\n",
       "      <th></th>\n",
       "      <th></th>\n",
       "    </tr>\n",
       "  </thead>\n",
       "  <tbody>\n",
       "    <tr>\n",
       "      <th rowspan=\"4\" valign=\"top\">150011</th>\n",
       "      <th>66</th>\n",
       "      <td>48</td>\n",
       "      <td>48</td>\n",
       "      <td>1.000000</td>\n",
       "      <td>NaN</td>\n",
       "    </tr>\n",
       "    <tr>\n",
       "      <th>72</th>\n",
       "      <td>30</td>\n",
       "      <td>60</td>\n",
       "      <td>0.500000</td>\n",
       "      <td>NaN</td>\n",
       "    </tr>\n",
       "    <tr>\n",
       "      <th>78</th>\n",
       "      <td>29</td>\n",
       "      <td>36</td>\n",
       "      <td>0.805556</td>\n",
       "      <td>NaN</td>\n",
       "    </tr>\n",
       "    <tr>\n",
       "      <th>84</th>\n",
       "      <td>126</td>\n",
       "      <td>126</td>\n",
       "      <td>1.000000</td>\n",
       "      <td>1.0</td>\n",
       "    </tr>\n",
       "    <tr>\n",
       "      <th>150042</th>\n",
       "      <th>48</th>\n",
       "      <td>6</td>\n",
       "      <td>6</td>\n",
       "      <td>1.000000</td>\n",
       "      <td>NaN</td>\n",
       "    </tr>\n",
       "    <tr>\n",
       "      <th>...</th>\n",
       "      <th>...</th>\n",
       "      <td>...</td>\n",
       "      <td>...</td>\n",
       "      <td>...</td>\n",
       "      <td>...</td>\n",
       "    </tr>\n",
       "    <tr>\n",
       "      <th rowspan=\"5\" valign=\"top\">99423</th>\n",
       "      <th>60</th>\n",
       "      <td>18</td>\n",
       "      <td>18</td>\n",
       "      <td>1.000000</td>\n",
       "      <td>NaN</td>\n",
       "    </tr>\n",
       "    <tr>\n",
       "      <th>66</th>\n",
       "      <td>24</td>\n",
       "      <td>48</td>\n",
       "      <td>0.500000</td>\n",
       "      <td>NaN</td>\n",
       "    </tr>\n",
       "    <tr>\n",
       "      <th>72</th>\n",
       "      <td>30</td>\n",
       "      <td>30</td>\n",
       "      <td>1.000000</td>\n",
       "      <td>NaN</td>\n",
       "    </tr>\n",
       "    <tr>\n",
       "      <th>78</th>\n",
       "      <td>36</td>\n",
       "      <td>36</td>\n",
       "      <td>1.000000</td>\n",
       "      <td>NaN</td>\n",
       "    </tr>\n",
       "    <tr>\n",
       "      <th>84</th>\n",
       "      <td>83</td>\n",
       "      <td>84</td>\n",
       "      <td>0.988095</td>\n",
       "      <td>1.0</td>\n",
       "    </tr>\n",
       "  </tbody>\n",
       "</table>\n",
       "<p>1054 rows × 4 columns</p>\n",
       "</div>"
      ],
      "text/plain": [
       "               correct  index       acc  rel_acc\n",
       "oid    offset                                   \n",
       "150011 66           48     48  1.000000      NaN\n",
       "       72           30     60  0.500000      NaN\n",
       "       78           29     36  0.805556      NaN\n",
       "       84          126    126  1.000000      1.0\n",
       "150042 48            6      6  1.000000      NaN\n",
       "...                ...    ...       ...      ...\n",
       "99423  60           18     18  1.000000      NaN\n",
       "       66           24     48  0.500000      NaN\n",
       "       72           30     30  1.000000      NaN\n",
       "       78           36     36  1.000000      NaN\n",
       "       84           83     84  0.988095      1.0\n",
       "\n",
       "[1054 rows x 4 columns]"
      ]
     },
     "execution_count": 31,
     "metadata": {},
     "output_type": "execute_result"
    }
   ],
   "source": [
    "df_oid_groupby"
   ]
  },
  {
   "cell_type": "code",
   "execution_count": 22,
   "id": "0510831f",
   "metadata": {
    "ExecuteTime": {
     "end_time": "2022-09-04T08:11:24.846156Z",
     "start_time": "2022-09-04T08:11:24.829820Z"
    }
   },
   "outputs": [
    {
     "data": {
      "text/html": [
       "<div>\n",
       "<style scoped>\n",
       "    .dataframe tbody tr th:only-of-type {\n",
       "        vertical-align: middle;\n",
       "    }\n",
       "\n",
       "    .dataframe tbody tr th {\n",
       "        vertical-align: top;\n",
       "    }\n",
       "\n",
       "    .dataframe thead th {\n",
       "        text-align: right;\n",
       "    }\n",
       "</style>\n",
       "<table border=\"1\" class=\"dataframe\">\n",
       "  <thead>\n",
       "    <tr style=\"text-align: right;\">\n",
       "      <th></th>\n",
       "      <th>oid</th>\n",
       "      <th>offset</th>\n",
       "      <th>correct</th>\n",
       "      <th>index</th>\n",
       "      <th>acc</th>\n",
       "    </tr>\n",
       "  </thead>\n",
       "  <tbody>\n",
       "    <tr>\n",
       "      <th>0</th>\n",
       "      <td>150011</td>\n",
       "      <td>66</td>\n",
       "      <td>48</td>\n",
       "      <td>48</td>\n",
       "      <td>1.000000</td>\n",
       "    </tr>\n",
       "    <tr>\n",
       "      <th>1</th>\n",
       "      <td>150011</td>\n",
       "      <td>72</td>\n",
       "      <td>30</td>\n",
       "      <td>60</td>\n",
       "      <td>0.500000</td>\n",
       "    </tr>\n",
       "    <tr>\n",
       "      <th>2</th>\n",
       "      <td>150011</td>\n",
       "      <td>78</td>\n",
       "      <td>29</td>\n",
       "      <td>36</td>\n",
       "      <td>0.805556</td>\n",
       "    </tr>\n",
       "    <tr>\n",
       "      <th>3</th>\n",
       "      <td>150011</td>\n",
       "      <td>84</td>\n",
       "      <td>126</td>\n",
       "      <td>126</td>\n",
       "      <td>1.000000</td>\n",
       "    </tr>\n",
       "    <tr>\n",
       "      <th>4</th>\n",
       "      <td>150042</td>\n",
       "      <td>48</td>\n",
       "      <td>6</td>\n",
       "      <td>6</td>\n",
       "      <td>1.000000</td>\n",
       "    </tr>\n",
       "    <tr>\n",
       "      <th>...</th>\n",
       "      <td>...</td>\n",
       "      <td>...</td>\n",
       "      <td>...</td>\n",
       "      <td>...</td>\n",
       "      <td>...</td>\n",
       "    </tr>\n",
       "    <tr>\n",
       "      <th>1049</th>\n",
       "      <td>99423</td>\n",
       "      <td>60</td>\n",
       "      <td>18</td>\n",
       "      <td>18</td>\n",
       "      <td>1.000000</td>\n",
       "    </tr>\n",
       "    <tr>\n",
       "      <th>1050</th>\n",
       "      <td>99423</td>\n",
       "      <td>66</td>\n",
       "      <td>24</td>\n",
       "      <td>48</td>\n",
       "      <td>0.500000</td>\n",
       "    </tr>\n",
       "    <tr>\n",
       "      <th>1051</th>\n",
       "      <td>99423</td>\n",
       "      <td>72</td>\n",
       "      <td>30</td>\n",
       "      <td>30</td>\n",
       "      <td>1.000000</td>\n",
       "    </tr>\n",
       "    <tr>\n",
       "      <th>1052</th>\n",
       "      <td>99423</td>\n",
       "      <td>78</td>\n",
       "      <td>36</td>\n",
       "      <td>36</td>\n",
       "      <td>1.000000</td>\n",
       "    </tr>\n",
       "    <tr>\n",
       "      <th>1053</th>\n",
       "      <td>99423</td>\n",
       "      <td>84</td>\n",
       "      <td>83</td>\n",
       "      <td>84</td>\n",
       "      <td>0.988095</td>\n",
       "    </tr>\n",
       "  </tbody>\n",
       "</table>\n",
       "<p>1054 rows × 5 columns</p>\n",
       "</div>"
      ],
      "text/plain": [
       "         oid  offset  correct  index       acc\n",
       "0     150011      66       48     48  1.000000\n",
       "1     150011      72       30     60  0.500000\n",
       "2     150011      78       29     36  0.805556\n",
       "3     150011      84      126    126  1.000000\n",
       "4     150042      48        6      6  1.000000\n",
       "...      ...     ...      ...    ...       ...\n",
       "1049   99423      60       18     18  1.000000\n",
       "1050   99423      66       24     48  0.500000\n",
       "1051   99423      72       30     30  1.000000\n",
       "1052   99423      78       36     36  1.000000\n",
       "1053   99423      84       83     84  0.988095\n",
       "\n",
       "[1054 rows x 5 columns]"
      ]
     },
     "execution_count": 22,
     "metadata": {},
     "output_type": "execute_result"
    }
   ],
   "source": [
    "df_oid_groupby"
   ]
  },
  {
   "cell_type": "code",
   "execution_count": null,
   "id": "afc38393",
   "metadata": {},
   "outputs": [],
   "source": []
  },
  {
   "cell_type": "code",
   "execution_count": 17,
   "id": "d70c6115",
   "metadata": {
    "ExecuteTime": {
     "end_time": "2022-09-04T08:10:36.885750Z",
     "start_time": "2022-09-04T08:10:36.864936Z"
    }
   },
   "outputs": [
    {
     "data": {
      "text/html": [
       "<div>\n",
       "<style scoped>\n",
       "    .dataframe tbody tr th:only-of-type {\n",
       "        vertical-align: middle;\n",
       "    }\n",
       "\n",
       "    .dataframe tbody tr th {\n",
       "        vertical-align: top;\n",
       "    }\n",
       "\n",
       "    .dataframe thead th {\n",
       "        text-align: right;\n",
       "    }\n",
       "</style>\n",
       "<table border=\"1\" class=\"dataframe\">\n",
       "  <thead>\n",
       "    <tr style=\"text-align: right;\">\n",
       "      <th></th>\n",
       "      <th>oid</th>\n",
       "      <th>offset</th>\n",
       "      <th>correct</th>\n",
       "      <th>index</th>\n",
       "    </tr>\n",
       "  </thead>\n",
       "  <tbody>\n",
       "    <tr>\n",
       "      <th>3</th>\n",
       "      <td>150011</td>\n",
       "      <td>84</td>\n",
       "      <td>126</td>\n",
       "      <td>126</td>\n",
       "    </tr>\n",
       "    <tr>\n",
       "      <th>9</th>\n",
       "      <td>150042</td>\n",
       "      <td>84</td>\n",
       "      <td>42</td>\n",
       "      <td>42</td>\n",
       "    </tr>\n",
       "    <tr>\n",
       "      <th>14</th>\n",
       "      <td>150110</td>\n",
       "      <td>84</td>\n",
       "      <td>42</td>\n",
       "      <td>42</td>\n",
       "    </tr>\n",
       "    <tr>\n",
       "      <th>19</th>\n",
       "      <td>150298</td>\n",
       "      <td>84</td>\n",
       "      <td>84</td>\n",
       "      <td>84</td>\n",
       "    </tr>\n",
       "    <tr>\n",
       "      <th>28</th>\n",
       "      <td>150540</td>\n",
       "      <td>84</td>\n",
       "      <td>186</td>\n",
       "      <td>210</td>\n",
       "    </tr>\n",
       "    <tr>\n",
       "      <th>...</th>\n",
       "      <td>...</td>\n",
       "      <td>...</td>\n",
       "      <td>...</td>\n",
       "      <td>...</td>\n",
       "    </tr>\n",
       "    <tr>\n",
       "      <th>1027</th>\n",
       "      <td>98009</td>\n",
       "      <td>84</td>\n",
       "      <td>84</td>\n",
       "      <td>84</td>\n",
       "    </tr>\n",
       "    <tr>\n",
       "      <th>1030</th>\n",
       "      <td>98230</td>\n",
       "      <td>84</td>\n",
       "      <td>42</td>\n",
       "      <td>42</td>\n",
       "    </tr>\n",
       "    <tr>\n",
       "      <th>1036</th>\n",
       "      <td>98455</td>\n",
       "      <td>84</td>\n",
       "      <td>82</td>\n",
       "      <td>84</td>\n",
       "    </tr>\n",
       "    <tr>\n",
       "      <th>1047</th>\n",
       "      <td>99380</td>\n",
       "      <td>84</td>\n",
       "      <td>42</td>\n",
       "      <td>42</td>\n",
       "    </tr>\n",
       "    <tr>\n",
       "      <th>1053</th>\n",
       "      <td>99423</td>\n",
       "      <td>84</td>\n",
       "      <td>83</td>\n",
       "      <td>84</td>\n",
       "    </tr>\n",
       "  </tbody>\n",
       "</table>\n",
       "<p>151 rows × 4 columns</p>\n",
       "</div>"
      ],
      "text/plain": [
       "         oid  offset  correct  index\n",
       "3     150011      84      126    126\n",
       "9     150042      84       42     42\n",
       "14    150110      84       42     42\n",
       "19    150298      84       84     84\n",
       "28    150540      84      186    210\n",
       "...      ...     ...      ...    ...\n",
       "1027   98009      84       84     84\n",
       "1030   98230      84       42     42\n",
       "1036   98455      84       82     84\n",
       "1047   99380      84       42     42\n",
       "1053   99423      84       83     84\n",
       "\n",
       "[151 rows x 4 columns]"
      ]
     },
     "execution_count": 17,
     "metadata": {},
     "output_type": "execute_result"
    }
   ],
   "source": [
    "df_7"
   ]
  },
  {
   "cell_type": "code",
   "execution_count": 53,
   "id": "af95e696",
   "metadata": {
    "ExecuteTime": {
     "end_time": "2022-09-04T07:05:40.545680Z",
     "start_time": "2022-09-04T07:05:39.725717Z"
    }
   },
   "outputs": [],
   "source": [
    "offsets = sorted(df_all_sec[\"offset\"].unique())\n",
    "\n",
    "accs = {}\n",
    "for off in offsets:\n",
    "    df_score = df_all_sec[df_all_sec['offset'] == off]\n",
    "    minute = (off - 42) // 6\n",
    "    acc = accuracy_score(df_score['label'], df_score['prediction'])\n",
    "    accs[minute] = acc"
   ]
  },
  {
   "cell_type": "code",
   "execution_count": 64,
   "id": "cfa2cb75",
   "metadata": {
    "ExecuteTime": {
     "end_time": "2022-09-04T07:11:06.043931Z",
     "start_time": "2022-09-04T07:11:06.028388Z"
    }
   },
   "outputs": [],
   "source": [
    "import matplotlib\n",
    "import matplotlib.font_manager\n",
    "from matplotlib import pyplot as plt\n",
    "import seaborn as sns\n",
    "class PlotterBase(object):\n",
    "    def __init__(\n",
    "            self,\n",
    "            xlabel=None,\n",
    "            ylabel=None,\n",
    "            title=None,\n",
    "            set_ticks=False,\n",
    "            figsize=(5, 5)):\n",
    "        self.fig, self.ax = plt.subplots(nrows=1, ncols=1, figsize=figsize)\n",
    "        self.ax.set_xlabel(xlabel)\n",
    "        self.ax.set_ylabel(ylabel)\n",
    "        self.ax.set_title(title)\n",
    "        self.set_ticks = set_ticks\n",
    "\n",
    "    def plot(self, x, *args, **kwargs):\n",
    "        self.ax.plot(x, linewidth=2, *args, **kwargs)\n",
    "        if self.set_ticks:\n",
    "            self.ax.set_xticks(x)\n",
    "\n",
    "    def conclude(self, loc=None):\n",
    "        self.ax.legend(ncol=2, loc=loc)\n",
    "        self.fig.tight_layout()\n",
    "\n",
    "    def save(self, path):\n",
    "        save_fig(self.fig, path)\n",
    "# font = {'size': 14}\n",
    "# matplotlib.rc('font', **font)\n",
    "matplotlib.rcParams.update({'font.size': 14})\n",
    "matplotlib.rc('pdf', fonttype=42)\n"
   ]
  },
  {
   "cell_type": "code",
   "execution_count": 67,
   "id": "1408f264",
   "metadata": {
    "ExecuteTime": {
     "end_time": "2022-09-04T07:11:26.773842Z",
     "start_time": "2022-09-04T07:11:26.628471Z"
    }
   },
   "outputs": [
    {
     "data": {
      "image/png": "[encoded data removed]",
      "text/plain": [
       "<Figure size 500x500 with 1 Axes>"
      ]
     },
     "metadata": {},
     "output_type": "display_data"
    }
   ],
   "source": [
    "xs = sorted(list(accs.keys()))\n",
    "ys = [accs[x] for x in xs]\n",
    "\n",
    "palette = sns.color_palette(\"hls\", 2)\n",
    "matplotlib.rcParams['axes.prop_cycle'] = matplotlib.cycler(color=palette)\n",
    "line_fmts = ['v-', '^-']\n",
    "plot_e2e = PlotterBase(xlabel='Last Window Size (min)',\n",
    "                       ylabel='Test Accuracy',\n",
    "                       title='Last Window Accuracy',\n",
    "                       set_ticks=True)\n",
    "plot_e2e.plot(xs, ys, line_fmts[0], color=palette[0], ms=6, label=\"wrap\")\n",
    "# save_fig(plot_e2e.fig, \"./figures/throughput_scaling_model_batch_default_gc\")"
   ]
  },
  {
   "cell_type": "code",
   "execution_count": 58,
   "id": "19477116",
   "metadata": {
    "ExecuteTime": {
     "end_time": "2022-09-04T07:09:00.684292Z",
     "start_time": "2022-09-04T07:09:00.677450Z"
    }
   },
   "outputs": [],
   "source": []
  },
  {
   "cell_type": "code",
   "execution_count": 29,
   "id": "a699071d",
   "metadata": {
    "ExecuteTime": {
     "end_time": "2022-09-04T06:51:34.571374Z",
     "start_time": "2022-09-04T06:51:34.544070Z"
    }
   },
   "outputs": [
    {
     "data": {
      "text/html": [
       "<div>\n",
       "<style scoped>\n",
       "    .dataframe tbody tr th:only-of-type {\n",
       "        vertical-align: middle;\n",
       "    }\n",
       "\n",
       "    .dataframe tbody tr th {\n",
       "        vertical-align: top;\n",
       "    }\n",
       "\n",
       "    .dataframe thead th {\n",
       "        text-align: right;\n",
       "    }\n",
       "</style>\n",
       "<table border=\"1\" class=\"dataframe\">\n",
       "  <thead>\n",
       "    <tr style=\"text-align: right;\">\n",
       "      <th></th>\n",
       "      <th>segment</th>\n",
       "      <th>timestamp</th>\n",
       "      <th>label</th>\n",
       "      <th>prediction</th>\n",
       "      <th>oid</th>\n",
       "      <th>index</th>\n",
       "      <th>offset</th>\n",
       "    </tr>\n",
       "  </thead>\n",
       "  <tbody>\n",
       "    <tr>\n",
       "      <th>0</th>\n",
       "      <td>0</td>\n",
       "      <td>2018-02-15 00:28:10</td>\n",
       "      <td>sitting</td>\n",
       "      <td>sitting</td>\n",
       "      <td>156996</td>\n",
       "      <td>69289</td>\n",
       "      <td>78</td>\n",
       "    </tr>\n",
       "    <tr>\n",
       "      <th>1</th>\n",
       "      <td>0</td>\n",
       "      <td>2018-02-15 00:28:20</td>\n",
       "      <td>sitting</td>\n",
       "      <td>sitting</td>\n",
       "      <td>156996</td>\n",
       "      <td>69289</td>\n",
       "      <td>78</td>\n",
       "    </tr>\n",
       "    <tr>\n",
       "      <th>2</th>\n",
       "      <td>0</td>\n",
       "      <td>2018-02-15 00:28:30</td>\n",
       "      <td>sitting</td>\n",
       "      <td>sitting</td>\n",
       "      <td>156996</td>\n",
       "      <td>69289</td>\n",
       "      <td>78</td>\n",
       "    </tr>\n",
       "    <tr>\n",
       "      <th>3</th>\n",
       "      <td>0</td>\n",
       "      <td>2018-02-15 00:28:40</td>\n",
       "      <td>sitting</td>\n",
       "      <td>sitting</td>\n",
       "      <td>156996</td>\n",
       "      <td>69289</td>\n",
       "      <td>78</td>\n",
       "    </tr>\n",
       "    <tr>\n",
       "      <th>4</th>\n",
       "      <td>0</td>\n",
       "      <td>2018-02-15 00:28:50</td>\n",
       "      <td>sitting</td>\n",
       "      <td>sitting</td>\n",
       "      <td>156996</td>\n",
       "      <td>69289</td>\n",
       "      <td>78</td>\n",
       "    </tr>\n",
       "    <tr>\n",
       "      <th>5</th>\n",
       "      <td>0</td>\n",
       "      <td>2018-02-15 00:29:00</td>\n",
       "      <td>sitting</td>\n",
       "      <td>sitting</td>\n",
       "      <td>156996</td>\n",
       "      <td>69289</td>\n",
       "      <td>78</td>\n",
       "    </tr>\n",
       "    <tr>\n",
       "      <th>6</th>\n",
       "      <td>0</td>\n",
       "      <td>2018-02-15 00:29:10</td>\n",
       "      <td>sitting</td>\n",
       "      <td>sitting</td>\n",
       "      <td>156996</td>\n",
       "      <td>69289</td>\n",
       "      <td>78</td>\n",
       "    </tr>\n",
       "    <tr>\n",
       "      <th>7</th>\n",
       "      <td>0</td>\n",
       "      <td>2018-02-15 00:29:20</td>\n",
       "      <td>sitting</td>\n",
       "      <td>sitting</td>\n",
       "      <td>156996</td>\n",
       "      <td>69289</td>\n",
       "      <td>78</td>\n",
       "    </tr>\n",
       "    <tr>\n",
       "      <th>8</th>\n",
       "      <td>0</td>\n",
       "      <td>2018-02-15 00:29:30</td>\n",
       "      <td>sitting</td>\n",
       "      <td>sitting</td>\n",
       "      <td>156996</td>\n",
       "      <td>69289</td>\n",
       "      <td>78</td>\n",
       "    </tr>\n",
       "    <tr>\n",
       "      <th>9</th>\n",
       "      <td>0</td>\n",
       "      <td>2018-02-15 00:29:40</td>\n",
       "      <td>sitting</td>\n",
       "      <td>sitting</td>\n",
       "      <td>156996</td>\n",
       "      <td>69289</td>\n",
       "      <td>78</td>\n",
       "    </tr>\n",
       "    <tr>\n",
       "      <th>10</th>\n",
       "      <td>0</td>\n",
       "      <td>2018-02-15 00:29:50</td>\n",
       "      <td>sitting</td>\n",
       "      <td>sitting</td>\n",
       "      <td>156996</td>\n",
       "      <td>69289</td>\n",
       "      <td>78</td>\n",
       "    </tr>\n",
       "    <tr>\n",
       "      <th>11</th>\n",
       "      <td>0</td>\n",
       "      <td>2018-02-15 00:30:00</td>\n",
       "      <td>sitting</td>\n",
       "      <td>sitting</td>\n",
       "      <td>156996</td>\n",
       "      <td>69289</td>\n",
       "      <td>78</td>\n",
       "    </tr>\n",
       "    <tr>\n",
       "      <th>12</th>\n",
       "      <td>0</td>\n",
       "      <td>2018-02-15 00:30:10</td>\n",
       "      <td>sitting</td>\n",
       "      <td>sitting</td>\n",
       "      <td>156996</td>\n",
       "      <td>69289</td>\n",
       "      <td>78</td>\n",
       "    </tr>\n",
       "    <tr>\n",
       "      <th>13</th>\n",
       "      <td>0</td>\n",
       "      <td>2018-02-15 00:30:20</td>\n",
       "      <td>sitting</td>\n",
       "      <td>sitting</td>\n",
       "      <td>156996</td>\n",
       "      <td>69289</td>\n",
       "      <td>78</td>\n",
       "    </tr>\n",
       "    <tr>\n",
       "      <th>14</th>\n",
       "      <td>0</td>\n",
       "      <td>2018-02-15 00:30:30</td>\n",
       "      <td>sitting</td>\n",
       "      <td>sitting</td>\n",
       "      <td>156996</td>\n",
       "      <td>69289</td>\n",
       "      <td>78</td>\n",
       "    </tr>\n",
       "    <tr>\n",
       "      <th>15</th>\n",
       "      <td>0</td>\n",
       "      <td>2018-02-15 00:30:40</td>\n",
       "      <td>sitting</td>\n",
       "      <td>sitting</td>\n",
       "      <td>156996</td>\n",
       "      <td>69289</td>\n",
       "      <td>78</td>\n",
       "    </tr>\n",
       "    <tr>\n",
       "      <th>16</th>\n",
       "      <td>0</td>\n",
       "      <td>2018-02-15 00:30:50</td>\n",
       "      <td>sitting</td>\n",
       "      <td>sitting</td>\n",
       "      <td>156996</td>\n",
       "      <td>69289</td>\n",
       "      <td>78</td>\n",
       "    </tr>\n",
       "    <tr>\n",
       "      <th>17</th>\n",
       "      <td>0</td>\n",
       "      <td>2018-02-15 00:31:00</td>\n",
       "      <td>sitting</td>\n",
       "      <td>sitting</td>\n",
       "      <td>156996</td>\n",
       "      <td>69289</td>\n",
       "      <td>78</td>\n",
       "    </tr>\n",
       "    <tr>\n",
       "      <th>18</th>\n",
       "      <td>0</td>\n",
       "      <td>2018-02-15 00:31:10</td>\n",
       "      <td>sitting</td>\n",
       "      <td>sitting</td>\n",
       "      <td>156996</td>\n",
       "      <td>69289</td>\n",
       "      <td>78</td>\n",
       "    </tr>\n",
       "    <tr>\n",
       "      <th>19</th>\n",
       "      <td>0</td>\n",
       "      <td>2018-02-15 00:31:20</td>\n",
       "      <td>sitting</td>\n",
       "      <td>sitting</td>\n",
       "      <td>156996</td>\n",
       "      <td>69289</td>\n",
       "      <td>78</td>\n",
       "    </tr>\n",
       "    <tr>\n",
       "      <th>20</th>\n",
       "      <td>0</td>\n",
       "      <td>2018-02-15 00:31:30</td>\n",
       "      <td>sitting</td>\n",
       "      <td>sitting</td>\n",
       "      <td>156996</td>\n",
       "      <td>69289</td>\n",
       "      <td>78</td>\n",
       "    </tr>\n",
       "    <tr>\n",
       "      <th>21</th>\n",
       "      <td>0</td>\n",
       "      <td>2018-02-15 00:31:40</td>\n",
       "      <td>sitting</td>\n",
       "      <td>sitting</td>\n",
       "      <td>156996</td>\n",
       "      <td>69289</td>\n",
       "      <td>78</td>\n",
       "    </tr>\n",
       "    <tr>\n",
       "      <th>22</th>\n",
       "      <td>0</td>\n",
       "      <td>2018-02-15 00:31:50</td>\n",
       "      <td>sitting</td>\n",
       "      <td>sitting</td>\n",
       "      <td>156996</td>\n",
       "      <td>69289</td>\n",
       "      <td>78</td>\n",
       "    </tr>\n",
       "    <tr>\n",
       "      <th>23</th>\n",
       "      <td>0</td>\n",
       "      <td>2018-02-15 00:32:00</td>\n",
       "      <td>sitting</td>\n",
       "      <td>sitting</td>\n",
       "      <td>156996</td>\n",
       "      <td>69289</td>\n",
       "      <td>78</td>\n",
       "    </tr>\n",
       "    <tr>\n",
       "      <th>24</th>\n",
       "      <td>0</td>\n",
       "      <td>2018-02-15 00:32:10</td>\n",
       "      <td>sitting</td>\n",
       "      <td>sitting</td>\n",
       "      <td>156996</td>\n",
       "      <td>69289</td>\n",
       "      <td>78</td>\n",
       "    </tr>\n",
       "    <tr>\n",
       "      <th>25</th>\n",
       "      <td>0</td>\n",
       "      <td>2018-02-15 00:32:20</td>\n",
       "      <td>sitting</td>\n",
       "      <td>sitting</td>\n",
       "      <td>156996</td>\n",
       "      <td>69289</td>\n",
       "      <td>78</td>\n",
       "    </tr>\n",
       "    <tr>\n",
       "      <th>26</th>\n",
       "      <td>0</td>\n",
       "      <td>2018-02-15 00:32:30</td>\n",
       "      <td>sitting</td>\n",
       "      <td>sitting</td>\n",
       "      <td>156996</td>\n",
       "      <td>69289</td>\n",
       "      <td>78</td>\n",
       "    </tr>\n",
       "    <tr>\n",
       "      <th>27</th>\n",
       "      <td>0</td>\n",
       "      <td>2018-02-15 00:32:40</td>\n",
       "      <td>sitting</td>\n",
       "      <td>sitting</td>\n",
       "      <td>156996</td>\n",
       "      <td>69289</td>\n",
       "      <td>78</td>\n",
       "    </tr>\n",
       "    <tr>\n",
       "      <th>28</th>\n",
       "      <td>0</td>\n",
       "      <td>2018-02-15 00:32:50</td>\n",
       "      <td>sitting</td>\n",
       "      <td>sitting</td>\n",
       "      <td>156996</td>\n",
       "      <td>69289</td>\n",
       "      <td>78</td>\n",
       "    </tr>\n",
       "    <tr>\n",
       "      <th>29</th>\n",
       "      <td>0</td>\n",
       "      <td>2018-02-15 00:33:00</td>\n",
       "      <td>sitting</td>\n",
       "      <td>sitting</td>\n",
       "      <td>156996</td>\n",
       "      <td>69289</td>\n",
       "      <td>78</td>\n",
       "    </tr>\n",
       "    <tr>\n",
       "      <th>30</th>\n",
       "      <td>0</td>\n",
       "      <td>2018-02-15 00:33:10</td>\n",
       "      <td>sitting</td>\n",
       "      <td>sitting</td>\n",
       "      <td>156996</td>\n",
       "      <td>69289</td>\n",
       "      <td>78</td>\n",
       "    </tr>\n",
       "    <tr>\n",
       "      <th>31</th>\n",
       "      <td>0</td>\n",
       "      <td>2018-02-15 00:33:20</td>\n",
       "      <td>sitting</td>\n",
       "      <td>sitting</td>\n",
       "      <td>156996</td>\n",
       "      <td>69289</td>\n",
       "      <td>78</td>\n",
       "    </tr>\n",
       "    <tr>\n",
       "      <th>32</th>\n",
       "      <td>0</td>\n",
       "      <td>2018-02-15 00:33:30</td>\n",
       "      <td>sitting</td>\n",
       "      <td>sitting</td>\n",
       "      <td>156996</td>\n",
       "      <td>69289</td>\n",
       "      <td>78</td>\n",
       "    </tr>\n",
       "    <tr>\n",
       "      <th>33</th>\n",
       "      <td>0</td>\n",
       "      <td>2018-02-15 00:33:40</td>\n",
       "      <td>sitting</td>\n",
       "      <td>sitting</td>\n",
       "      <td>156996</td>\n",
       "      <td>69289</td>\n",
       "      <td>78</td>\n",
       "    </tr>\n",
       "    <tr>\n",
       "      <th>34</th>\n",
       "      <td>0</td>\n",
       "      <td>2018-02-15 00:33:50</td>\n",
       "      <td>sitting</td>\n",
       "      <td>sitting</td>\n",
       "      <td>156996</td>\n",
       "      <td>69289</td>\n",
       "      <td>78</td>\n",
       "    </tr>\n",
       "    <tr>\n",
       "      <th>35</th>\n",
       "      <td>0</td>\n",
       "      <td>2018-02-15 00:34:00</td>\n",
       "      <td>sitting</td>\n",
       "      <td>sitting</td>\n",
       "      <td>156996</td>\n",
       "      <td>69289</td>\n",
       "      <td>78</td>\n",
       "    </tr>\n",
       "    <tr>\n",
       "      <th>36</th>\n",
       "      <td>0</td>\n",
       "      <td>2018-02-15 00:34:10</td>\n",
       "      <td>sitting</td>\n",
       "      <td>sitting</td>\n",
       "      <td>156996</td>\n",
       "      <td>69289</td>\n",
       "      <td>78</td>\n",
       "    </tr>\n",
       "    <tr>\n",
       "      <th>37</th>\n",
       "      <td>0</td>\n",
       "      <td>2018-02-15 00:34:20</td>\n",
       "      <td>sitting</td>\n",
       "      <td>sitting</td>\n",
       "      <td>156996</td>\n",
       "      <td>69289</td>\n",
       "      <td>78</td>\n",
       "    </tr>\n",
       "    <tr>\n",
       "      <th>38</th>\n",
       "      <td>0</td>\n",
       "      <td>2018-02-15 00:34:30</td>\n",
       "      <td>sitting</td>\n",
       "      <td>sitting</td>\n",
       "      <td>156996</td>\n",
       "      <td>69289</td>\n",
       "      <td>78</td>\n",
       "    </tr>\n",
       "    <tr>\n",
       "      <th>39</th>\n",
       "      <td>0</td>\n",
       "      <td>2018-02-15 00:34:40</td>\n",
       "      <td>sitting</td>\n",
       "      <td>sitting</td>\n",
       "      <td>156996</td>\n",
       "      <td>69289</td>\n",
       "      <td>78</td>\n",
       "    </tr>\n",
       "    <tr>\n",
       "      <th>40</th>\n",
       "      <td>0</td>\n",
       "      <td>2018-02-15 00:34:50</td>\n",
       "      <td>sitting</td>\n",
       "      <td>sitting</td>\n",
       "      <td>156996</td>\n",
       "      <td>69289</td>\n",
       "      <td>78</td>\n",
       "    </tr>\n",
       "    <tr>\n",
       "      <th>41</th>\n",
       "      <td>0</td>\n",
       "      <td>2018-02-15 00:35:00</td>\n",
       "      <td>sitting</td>\n",
       "      <td>sitting</td>\n",
       "      <td>156996</td>\n",
       "      <td>69289</td>\n",
       "      <td>78</td>\n",
       "    </tr>\n",
       "  </tbody>\n",
       "</table>\n",
       "</div>"
      ],
      "text/plain": [
       "    segment            timestamp    label prediction     oid  index  offset\n",
       "0         0  2018-02-15 00:28:10  sitting    sitting  156996  69289      78\n",
       "1         0  2018-02-15 00:28:20  sitting    sitting  156996  69289      78\n",
       "2         0  2018-02-15 00:28:30  sitting    sitting  156996  69289      78\n",
       "3         0  2018-02-15 00:28:40  sitting    sitting  156996  69289      78\n",
       "4         0  2018-02-15 00:28:50  sitting    sitting  156996  69289      78\n",
       "5         0  2018-02-15 00:29:00  sitting    sitting  156996  69289      78\n",
       "6         0  2018-02-15 00:29:10  sitting    sitting  156996  69289      78\n",
       "7         0  2018-02-15 00:29:20  sitting    sitting  156996  69289      78\n",
       "8         0  2018-02-15 00:29:30  sitting    sitting  156996  69289      78\n",
       "9         0  2018-02-15 00:29:40  sitting    sitting  156996  69289      78\n",
       "10        0  2018-02-15 00:29:50  sitting    sitting  156996  69289      78\n",
       "11        0  2018-02-15 00:30:00  sitting    sitting  156996  69289      78\n",
       "12        0  2018-02-15 00:30:10  sitting    sitting  156996  69289      78\n",
       "13        0  2018-02-15 00:30:20  sitting    sitting  156996  69289      78\n",
       "14        0  2018-02-15 00:30:30  sitting    sitting  156996  69289      78\n",
       "15        0  2018-02-15 00:30:40  sitting    sitting  156996  69289      78\n",
       "16        0  2018-02-15 00:30:50  sitting    sitting  156996  69289      78\n",
       "17        0  2018-02-15 00:31:00  sitting    sitting  156996  69289      78\n",
       "18        0  2018-02-15 00:31:10  sitting    sitting  156996  69289      78\n",
       "19        0  2018-02-15 00:31:20  sitting    sitting  156996  69289      78\n",
       "20        0  2018-02-15 00:31:30  sitting    sitting  156996  69289      78\n",
       "21        0  2018-02-15 00:31:40  sitting    sitting  156996  69289      78\n",
       "22        0  2018-02-15 00:31:50  sitting    sitting  156996  69289      78\n",
       "23        0  2018-02-15 00:32:00  sitting    sitting  156996  69289      78\n",
       "24        0  2018-02-15 00:32:10  sitting    sitting  156996  69289      78\n",
       "25        0  2018-02-15 00:32:20  sitting    sitting  156996  69289      78\n",
       "26        0  2018-02-15 00:32:30  sitting    sitting  156996  69289      78\n",
       "27        0  2018-02-15 00:32:40  sitting    sitting  156996  69289      78\n",
       "28        0  2018-02-15 00:32:50  sitting    sitting  156996  69289      78\n",
       "29        0  2018-02-15 00:33:00  sitting    sitting  156996  69289      78\n",
       "30        0  2018-02-15 00:33:10  sitting    sitting  156996  69289      78\n",
       "31        0  2018-02-15 00:33:20  sitting    sitting  156996  69289      78\n",
       "32        0  2018-02-15 00:33:30  sitting    sitting  156996  69289      78\n",
       "33        0  2018-02-15 00:33:40  sitting    sitting  156996  69289      78\n",
       "34        0  2018-02-15 00:33:50  sitting    sitting  156996  69289      78\n",
       "35        0  2018-02-15 00:34:00  sitting    sitting  156996  69289      78\n",
       "36        0  2018-02-15 00:34:10  sitting    sitting  156996  69289      78\n",
       "37        0  2018-02-15 00:34:20  sitting    sitting  156996  69289      78\n",
       "38        0  2018-02-15 00:34:30  sitting    sitting  156996  69289      78\n",
       "39        0  2018-02-15 00:34:40  sitting    sitting  156996  69289      78\n",
       "40        0  2018-02-15 00:34:50  sitting    sitting  156996  69289      78\n",
       "41        0  2018-02-15 00:35:00  sitting    sitting  156996  69289      78"
      ]
     },
     "execution_count": 29,
     "metadata": {},
     "output_type": "execute_result"
    }
   ],
   "source": [
    "df.iloc[:42]"
   ]
  },
  {
   "cell_type": "code",
   "execution_count": 27,
   "id": "2829d30b",
   "metadata": {
    "ExecuteTime": {
     "end_time": "2022-09-04T06:50:37.483215Z",
     "start_time": "2022-09-04T06:50:37.455765Z"
    }
   },
   "outputs": [
    {
     "data": {
      "text/html": [
       "<div>\n",
       "<style scoped>\n",
       "    .dataframe tbody tr th:only-of-type {\n",
       "        vertical-align: middle;\n",
       "    }\n",
       "\n",
       "    .dataframe tbody tr th {\n",
       "        vertical-align: top;\n",
       "    }\n",
       "\n",
       "    .dataframe thead th {\n",
       "        text-align: right;\n",
       "    }\n",
       "</style>\n",
       "<table border=\"1\" class=\"dataframe\">\n",
       "  <thead>\n",
       "    <tr style=\"text-align: right;\">\n",
       "      <th></th>\n",
       "      <th>segment</th>\n",
       "      <th>timestamp</th>\n",
       "      <th>label</th>\n",
       "      <th>prediction</th>\n",
       "      <th>oid</th>\n",
       "      <th>index</th>\n",
       "      <th>offset</th>\n",
       "    </tr>\n",
       "  </thead>\n",
       "  <tbody>\n",
       "    <tr>\n",
       "      <th>0</th>\n",
       "      <td>0</td>\n",
       "      <td>2017-05-12 19:11:10</td>\n",
       "      <td>not-sitting</td>\n",
       "      <td>not-sitting</td>\n",
       "      <td>156554</td>\n",
       "      <td>11227</td>\n",
       "      <td>84</td>\n",
       "    </tr>\n",
       "    <tr>\n",
       "      <th>1</th>\n",
       "      <td>0</td>\n",
       "      <td>2017-05-12 19:11:20</td>\n",
       "      <td>not-sitting</td>\n",
       "      <td>not-sitting</td>\n",
       "      <td>156554</td>\n",
       "      <td>11227</td>\n",
       "      <td>84</td>\n",
       "    </tr>\n",
       "    <tr>\n",
       "      <th>2</th>\n",
       "      <td>0</td>\n",
       "      <td>2017-05-12 19:11:30</td>\n",
       "      <td>not-sitting</td>\n",
       "      <td>not-sitting</td>\n",
       "      <td>156554</td>\n",
       "      <td>11227</td>\n",
       "      <td>84</td>\n",
       "    </tr>\n",
       "    <tr>\n",
       "      <th>3</th>\n",
       "      <td>0</td>\n",
       "      <td>2017-05-12 19:11:40</td>\n",
       "      <td>not-sitting</td>\n",
       "      <td>not-sitting</td>\n",
       "      <td>156554</td>\n",
       "      <td>11227</td>\n",
       "      <td>84</td>\n",
       "    </tr>\n",
       "    <tr>\n",
       "      <th>4</th>\n",
       "      <td>0</td>\n",
       "      <td>2017-05-12 19:11:50</td>\n",
       "      <td>not-sitting</td>\n",
       "      <td>not-sitting</td>\n",
       "      <td>156554</td>\n",
       "      <td>11227</td>\n",
       "      <td>84</td>\n",
       "    </tr>\n",
       "    <tr>\n",
       "      <th>...</th>\n",
       "      <td>...</td>\n",
       "      <td>...</td>\n",
       "      <td>...</td>\n",
       "      <td>...</td>\n",
       "      <td>...</td>\n",
       "      <td>...</td>\n",
       "      <td>...</td>\n",
       "    </tr>\n",
       "    <tr>\n",
       "      <th>52015</th>\n",
       "      <td>0</td>\n",
       "      <td>2018-02-15 00:40:20</td>\n",
       "      <td>sitting</td>\n",
       "      <td>sitting</td>\n",
       "      <td>156996</td>\n",
       "      <td>69289</td>\n",
       "      <td>78</td>\n",
       "    </tr>\n",
       "    <tr>\n",
       "      <th>52016</th>\n",
       "      <td>0</td>\n",
       "      <td>2018-02-15 00:40:30</td>\n",
       "      <td>sitting</td>\n",
       "      <td>sitting</td>\n",
       "      <td>156996</td>\n",
       "      <td>69289</td>\n",
       "      <td>78</td>\n",
       "    </tr>\n",
       "    <tr>\n",
       "      <th>52017</th>\n",
       "      <td>0</td>\n",
       "      <td>2018-02-15 00:40:40</td>\n",
       "      <td>sitting</td>\n",
       "      <td>sitting</td>\n",
       "      <td>156996</td>\n",
       "      <td>69289</td>\n",
       "      <td>78</td>\n",
       "    </tr>\n",
       "    <tr>\n",
       "      <th>52018</th>\n",
       "      <td>0</td>\n",
       "      <td>2018-02-15 00:40:50</td>\n",
       "      <td>sitting</td>\n",
       "      <td>sitting</td>\n",
       "      <td>156996</td>\n",
       "      <td>69289</td>\n",
       "      <td>78</td>\n",
       "    </tr>\n",
       "    <tr>\n",
       "      <th>52019</th>\n",
       "      <td>0</td>\n",
       "      <td>2018-02-15 00:41:00</td>\n",
       "      <td>sitting</td>\n",
       "      <td>sitting</td>\n",
       "      <td>156996</td>\n",
       "      <td>69289</td>\n",
       "      <td>78</td>\n",
       "    </tr>\n",
       "  </tbody>\n",
       "</table>\n",
       "<p>52020 rows × 7 columns</p>\n",
       "</div>"
      ],
      "text/plain": [
       "       segment            timestamp        label   prediction     oid  index  \\\n",
       "0            0  2017-05-12 19:11:10  not-sitting  not-sitting  156554  11227   \n",
       "1            0  2017-05-12 19:11:20  not-sitting  not-sitting  156554  11227   \n",
       "2            0  2017-05-12 19:11:30  not-sitting  not-sitting  156554  11227   \n",
       "3            0  2017-05-12 19:11:40  not-sitting  not-sitting  156554  11227   \n",
       "4            0  2017-05-12 19:11:50  not-sitting  not-sitting  156554  11227   \n",
       "...        ...                  ...          ...          ...     ...    ...   \n",
       "52015        0  2018-02-15 00:40:20      sitting      sitting  156996  69289   \n",
       "52016        0  2018-02-15 00:40:30      sitting      sitting  156996  69289   \n",
       "52017        0  2018-02-15 00:40:40      sitting      sitting  156996  69289   \n",
       "52018        0  2018-02-15 00:40:50      sitting      sitting  156996  69289   \n",
       "52019        0  2018-02-15 00:41:00      sitting      sitting  156996  69289   \n",
       "\n",
       "       offset  \n",
       "0          84  \n",
       "1          84  \n",
       "2          84  \n",
       "3          84  \n",
       "4          84  \n",
       "...       ...  \n",
       "52015      78  \n",
       "52016      78  \n",
       "52017      78  \n",
       "52018      78  \n",
       "52019      78  \n",
       "\n",
       "[52020 rows x 7 columns]"
      ]
     },
     "execution_count": 27,
     "metadata": {},
     "output_type": "execute_result"
    }
   ],
   "source": [
    "df_all"
   ]
  },
  {
   "cell_type": "code",
   "execution_count": 24,
   "id": "82f167be",
   "metadata": {
    "ExecuteTime": {
     "end_time": "2022-09-04T06:50:00.475116Z",
     "start_time": "2022-09-04T06:50:00.465046Z"
    }
   },
   "outputs": [
    {
     "data": {
      "text/plain": [
       "['/mnt/nfs/niddk/ACT',\n",
       " 'PREDICTIONS',\n",
       " 'SAMPLED',\n",
       " 'WRAP/CHAP',\n",
       " 'ALL',\n",
       " 'ADULTS/156554',\n",
       " '11227',\n",
       " '84.csv']"
      ]
     },
     "execution_count": 24,
     "metadata": {},
     "output_type": "execute_result"
    }
   ],
   "source": [
    "predfile.split(\"_\")"
   ]
  },
  {
   "cell_type": "code",
   "execution_count": 18,
   "id": "469053a2",
   "metadata": {
    "ExecuteTime": {
     "end_time": "2022-09-04T06:27:51.404727Z",
     "start_time": "2022-09-04T06:27:51.142654Z"
    }
   },
   "outputs": [
    {
     "data": {
      "text/plain": [
       "0.6246209877743695"
      ]
     },
     "execution_count": 18,
     "metadata": {},
     "output_type": "execute_result"
    }
   ],
   "source": []
  },
  {
   "cell_type": "code",
   "execution_count": 11,
   "id": "1cb9d8e0",
   "metadata": {
    "ExecuteTime": {
     "end_time": "2022-09-04T06:25:58.625411Z",
     "start_time": "2022-09-04T06:25:55.184611Z"
    }
   },
   "outputs": [
    {
     "data": {
      "text/html": [
       "<div>\n",
       "<style scoped>\n",
       "    .dataframe tbody tr th:only-of-type {\n",
       "        vertical-align: middle;\n",
       "    }\n",
       "\n",
       "    .dataframe tbody tr th {\n",
       "        vertical-align: top;\n",
       "    }\n",
       "\n",
       "    .dataframe thead th {\n",
       "        text-align: right;\n",
       "    }\n",
       "</style>\n",
       "<table border=\"1\" class=\"dataframe\">\n",
       "  <thead>\n",
       "    <tr style=\"text-align: right;\">\n",
       "      <th></th>\n",
       "      <th>segment</th>\n",
       "      <th>timestamp</th>\n",
       "      <th>label</th>\n",
       "      <th>prediction</th>\n",
       "    </tr>\n",
       "  </thead>\n",
       "  <tbody>\n",
       "    <tr>\n",
       "      <th>0</th>\n",
       "      <td>0</td>\n",
       "      <td>2018-04-02 00:00:00</td>\n",
       "      <td>no-label</td>\n",
       "      <td>sitting</td>\n",
       "    </tr>\n",
       "    <tr>\n",
       "      <th>1</th>\n",
       "      <td>0</td>\n",
       "      <td>2018-04-02 00:00:10</td>\n",
       "      <td>no-label</td>\n",
       "      <td>sitting</td>\n",
       "    </tr>\n",
       "    <tr>\n",
       "      <th>2</th>\n",
       "      <td>0</td>\n",
       "      <td>2018-04-02 00:00:20</td>\n",
       "      <td>no-label</td>\n",
       "      <td>sitting</td>\n",
       "    </tr>\n",
       "    <tr>\n",
       "      <th>3</th>\n",
       "      <td>0</td>\n",
       "      <td>2018-04-02 00:00:30</td>\n",
       "      <td>no-label</td>\n",
       "      <td>sitting</td>\n",
       "    </tr>\n",
       "    <tr>\n",
       "      <th>4</th>\n",
       "      <td>0</td>\n",
       "      <td>2018-04-02 00:00:40</td>\n",
       "      <td>no-label</td>\n",
       "      <td>sitting</td>\n",
       "    </tr>\n",
       "    <tr>\n",
       "      <th>...</th>\n",
       "      <td>...</td>\n",
       "      <td>...</td>\n",
       "      <td>...</td>\n",
       "      <td>...</td>\n",
       "    </tr>\n",
       "    <tr>\n",
       "      <th>120955</th>\n",
       "      <td>0</td>\n",
       "      <td>2018-04-15 23:59:10</td>\n",
       "      <td>no-label</td>\n",
       "      <td>sitting</td>\n",
       "    </tr>\n",
       "    <tr>\n",
       "      <th>120956</th>\n",
       "      <td>0</td>\n",
       "      <td>2018-04-15 23:59:20</td>\n",
       "      <td>no-label</td>\n",
       "      <td>sitting</td>\n",
       "    </tr>\n",
       "    <tr>\n",
       "      <th>120957</th>\n",
       "      <td>0</td>\n",
       "      <td>2018-04-15 23:59:30</td>\n",
       "      <td>no-label</td>\n",
       "      <td>sitting</td>\n",
       "    </tr>\n",
       "    <tr>\n",
       "      <th>120958</th>\n",
       "      <td>0</td>\n",
       "      <td>2018-04-15 23:59:40</td>\n",
       "      <td>no-label</td>\n",
       "      <td>sitting</td>\n",
       "    </tr>\n",
       "    <tr>\n",
       "      <th>120959</th>\n",
       "      <td>0</td>\n",
       "      <td>2018-04-15 23:59:50</td>\n",
       "      <td>no-label</td>\n",
       "      <td>sitting</td>\n",
       "    </tr>\n",
       "  </tbody>\n",
       "</table>\n",
       "<p>120960 rows × 4 columns</p>\n",
       "</div>"
      ],
      "text/plain": [
       "        segment            timestamp     label prediction\n",
       "0             0  2018-04-02 00:00:00  no-label    sitting\n",
       "1             0  2018-04-02 00:00:10  no-label    sitting\n",
       "2             0  2018-04-02 00:00:20  no-label    sitting\n",
       "3             0  2018-04-02 00:00:30  no-label    sitting\n",
       "4             0  2018-04-02 00:00:40  no-label    sitting\n",
       "...         ...                  ...       ...        ...\n",
       "120955        0  2018-04-15 23:59:10  no-label    sitting\n",
       "120956        0  2018-04-15 23:59:20  no-label    sitting\n",
       "120957        0  2018-04-15 23:59:30  no-label    sitting\n",
       "120958        0  2018-04-15 23:59:40  no-label    sitting\n",
       "120959        0  2018-04-15 23:59:50  no-label    sitting\n",
       "\n",
       "[120960 rows x 4 columns]"
      ]
     },
     "execution_count": 11,
     "metadata": {},
     "output_type": "execute_result"
    }
   ],
   "source": [
    "df"
   ]
  },
  {
   "cell_type": "code",
   "execution_count": null,
   "id": "eaf7f478",
   "metadata": {},
   "outputs": [],
   "source": []
  },
  {
   "cell_type": "code",
   "execution_count": 3,
   "id": "cca51c54",
   "metadata": {
    "ExecuteTime": {
     "end_time": "2022-09-04T02:50:08.996965Z",
     "start_time": "2022-09-04T02:50:08.074632Z"
    }
   },
   "outputs": [],
   "source": [
    "data = list(input_iterator(\"/mnt/nfs/niddk/ACT_30HZ_CSV_preprocessed/1\", \"152570\"))"
   ]
  },
  {
   "cell_type": "code",
   "execution_count": 7,
   "id": "16ead2a9",
   "metadata": {
    "ExecuteTime": {
     "end_time": "2022-09-04T02:51:05.240107Z",
     "start_time": "2022-09-04T02:51:05.226274Z"
    }
   },
   "outputs": [
    {
     "data": {
      "text/plain": [
       "(array([[[ 0.534, -0.686,  0.443],\n",
       "         [ 0.535, -0.687,  0.441],\n",
       "         [ 0.533, -0.687,  0.443],\n",
       "         ...,\n",
       "         [ 0.535, -0.683,  0.444],\n",
       "         [ 0.534, -0.687,  0.442],\n",
       "         [ 0.535, -0.685,  0.443]],\n",
       " \n",
       "        [[ 0.537, -0.689,  0.443],\n",
       "         [ 0.537, -0.689,  0.443],\n",
       "         [ 0.537, -0.689,  0.443],\n",
       "         ...,\n",
       "         [ 0.537, -0.689,  0.443],\n",
       "         [ 0.537, -0.689,  0.443],\n",
       "         [ 0.537, -0.689,  0.443]],\n",
       " \n",
       "        [[ 0.537, -0.689,  0.443],\n",
       "         [ 0.537, -0.689,  0.443],\n",
       "         [ 0.537, -0.689,  0.443],\n",
       "         ...,\n",
       "         [ 0.537, -0.689,  0.443],\n",
       "         [ 0.537, -0.689,  0.443],\n",
       "         [ 0.537, -0.689,  0.443]],\n",
       " \n",
       "        ...,\n",
       " \n",
       "        [[ 0.419,  0.018,  0.906],\n",
       "         [ 0.419,  0.018,  0.906],\n",
       "         [ 0.419,  0.018,  0.906],\n",
       "         ...,\n",
       "         [ 0.419,  0.018,  0.906],\n",
       "         [ 0.419,  0.018,  0.906],\n",
       "         [ 0.419,  0.018,  0.906]],\n",
       " \n",
       "        [[ 0.419,  0.018,  0.906],\n",
       "         [ 0.419,  0.018,  0.906],\n",
       "         [ 0.419,  0.018,  0.906],\n",
       "         ...,\n",
       "         [ 0.419,  0.018,  0.906],\n",
       "         [ 0.419,  0.018,  0.906],\n",
       "         [ 0.419,  0.018,  0.906]],\n",
       " \n",
       "        [[ 0.419,  0.018,  0.906],\n",
       "         [ 0.419,  0.018,  0.906],\n",
       "         [ 0.419,  0.018,  0.906],\n",
       "         ...,\n",
       "         [ 0.419,  0.018,  0.906],\n",
       "         [ 0.419,  0.018,  0.906],\n",
       "         [ 0.419,  0.018,  0.906]]]),\n",
       " array([1.49862600e+09, 1.49862601e+09, 1.49862602e+09, ...,\n",
       "        1.49983557e+09, 1.49983558e+09, 1.49983559e+09]),\n",
       " array([-1, -1, -1, ..., -1, -1, -1]))"
      ]
     },
     "execution_count": 7,
     "metadata": {},
     "output_type": "execute_result"
    }
   ],
   "source": [
    "data[0]"
   ]
  },
  {
   "cell_type": "code",
   "execution_count": 16,
   "id": "97ef9443",
   "metadata": {
    "ExecuteTime": {
     "end_time": "2022-09-04T03:12:58.001150Z",
     "start_time": "2022-09-04T03:12:57.992954Z"
    }
   },
   "outputs": [],
   "source": [
    "downsample_window=1.0/10\n",
    "cnn_window_size = 10\n",
    "gt3x_frequency = 30\n",
    "\n",
    "RESOLUTION = 1/float(10)\n",
    "GT3X_FREQUENCY = gt3x_frequency\n",
    "CNN_WINDOW_SIZE = 10"
   ]
  },
  {
   "cell_type": "code",
   "execution_count": 32,
   "id": "c9773fca",
   "metadata": {
    "ExecuteTime": {
     "end_time": "2022-09-04T03:37:09.071786Z",
     "start_time": "2022-09-04T03:37:09.065029Z"
    }
   },
   "outputs": [],
   "source": [
    "label_map = json.loads('{\"0\": 0, \"1\": 1, \"2\": 1}')"
   ]
  },
  {
   "cell_type": "code",
   "execution_count": 66,
   "id": "585a86d8",
   "metadata": {
    "ExecuteTime": {
     "end_time": "2022-09-04T03:56:25.260736Z",
     "start_time": "2022-09-04T03:56:24.891161Z"
    }
   },
   "outputs": [],
   "source": [
    "ap_df = pd.read_csv(os.path.join(\n",
    "                '/mnt/nfs/niddk/ACT_EVENTS', '{}.csv'.format(\"152570\")))\n",
    "ap_df['Time'] = ap_df['Time'].map(\n",
    "            lambda x: datetime.datetime.utcfromtimestamp(round((x - 25569.) * 86400 * 10) / 10.))\n",
    "event_start_times = ap_df['Time'].tolist()\n",
    "ap_df['Interval (s)'] = ap_df['Interval (s)'].map(\n",
    "    lambda x: datetime.timedelta(seconds=round(x * 10) / 10.))\n",
    "event_intervals = ap_df['Interval (s)'].tolist()\n",
    "# Fix for column name inconsistency in ActivPal\n",
    "ap_df = ap_df.rename(columns={\n",
    "                     'ActivityCode (0=sedentary, 1= standing, 2=stepping)': 'ActivityCode (0=sedentary, 1=standing, 2=stepping)'})\n",
    "event_labels = ap_df['ActivityCode (0=sedentary, 1=standing, 2=stepping)'].apply(\n",
    "    lambda x: label_map[str(x)]).tolist()"
   ]
  },
  {
   "cell_type": "code",
   "execution_count": 68,
   "id": "b78566a3",
   "metadata": {
    "ExecuteTime": {
     "end_time": "2022-09-04T03:58:19.370330Z",
     "start_time": "2022-09-04T03:58:19.355197Z"
    }
   },
   "outputs": [
    {
     "data": {
      "text/plain": [
       "[Timestamp('2017-07-06 06:49:30'),\n",
       " Timestamp('2017-07-06 06:49:35.800000'),\n",
       " Timestamp('2017-07-06 06:49:48.700000'),\n",
       " Timestamp('2017-07-06 06:49:50'),\n",
       " Timestamp('2017-07-06 06:49:51.400000'),\n",
       " Timestamp('2017-07-06 06:49:52.600000'),\n",
       " Timestamp('2017-07-06 06:49:57'),\n",
       " Timestamp('2017-07-06 06:59:45.100000'),\n",
       " Timestamp('2017-07-06 06:59:46.400000'),\n",
       " Timestamp('2017-07-06 06:59:47.700000'),\n",
       " Timestamp('2017-07-06 06:59:49.100000'),\n",
       " Timestamp('2017-07-06 06:59:50.400000'),\n",
       " Timestamp('2017-07-06 06:59:51.800000'),\n",
       " Timestamp('2017-07-06 06:59:54.300000'),\n",
       " Timestamp('2017-07-06 06:59:55.600000'),\n",
       " Timestamp('2017-07-06 06:59:56.900000'),\n",
       " Timestamp('2017-07-06 06:59:58.400000'),\n",
       " Timestamp('2017-07-06 07:00:45.500000'),\n",
       " Timestamp('2017-07-06 07:00:47'),\n",
       " Timestamp('2017-07-06 07:00:48.500000'),\n",
       " Timestamp('2017-07-06 07:00:49.900000'),\n",
       " Timestamp('2017-07-06 07:00:51.400000'),\n",
       " Timestamp('2017-07-06 07:00:52.800000'),\n",
       " Timestamp('2017-07-06 07:00:54.300000'),\n",
       " Timestamp('2017-07-06 07:00:57.200000'),\n",
       " Timestamp('2017-07-06 07:01:02.300000'),\n",
       " Timestamp('2017-07-06 07:22:02.400000'),\n",
       " Timestamp('2017-07-06 07:22:05.200000'),\n",
       " Timestamp('2017-07-06 07:22:06.700000'),\n",
       " Timestamp('2017-07-06 07:22:08.300000'),\n",
       " Timestamp('2017-07-06 07:22:10.100000'),\n",
       " Timestamp('2017-07-06 07:22:11.700000'),\n",
       " Timestamp('2017-07-06 07:22:13.300000'),\n",
       " Timestamp('2017-07-06 07:22:14.700000'),\n",
       " Timestamp('2017-07-06 07:22:17.500000'),\n",
       " Timestamp('2017-07-06 07:22:19.100000'),\n",
       " Timestamp('2017-07-06 07:22:22.200000'),\n",
       " Timestamp('2017-07-06 07:22:24.700000'),\n",
       " Timestamp('2017-07-06 07:22:28.900000'),\n",
       " Timestamp('2017-07-06 07:22:32.700000'),\n",
       " Timestamp('2017-07-06 07:26:05.500000'),\n",
       " Timestamp('2017-07-06 07:34:15.600000'),\n",
       " Timestamp('2017-07-06 07:34:16.900000'),\n",
       " Timestamp('2017-07-06 07:34:18.300000'),\n",
       " Timestamp('2017-07-06 07:34:19.800000'),\n",
       " Timestamp('2017-07-06 07:34:21.300000'),\n",
       " Timestamp('2017-07-06 07:34:23'),\n",
       " Timestamp('2017-07-06 07:34:24.600000'),\n",
       " Timestamp('2017-07-06 07:35:14.700000'),\n",
       " Timestamp('2017-07-06 07:35:16.300000'),\n",
       " Timestamp('2017-07-06 07:35:35.700000'),\n",
       " Timestamp('2017-07-06 07:35:41.500000'),\n",
       " Timestamp('2017-07-06 07:35:58.300000'),\n",
       " Timestamp('2017-07-06 07:36:02.300000'),\n",
       " Timestamp('2017-07-06 07:36:11.500000'),\n",
       " Timestamp('2017-07-06 07:36:17.300000'),\n",
       " Timestamp('2017-07-06 07:36:41.600000'),\n",
       " Timestamp('2017-07-06 07:36:45.800000'),\n",
       " Timestamp('2017-07-06 07:36:46.700000'),\n",
       " Timestamp('2017-07-06 07:36:48.300000'),\n",
       " Timestamp('2017-07-06 07:45:49.900000'),\n",
       " Timestamp('2017-07-06 07:46:41.600000'),\n",
       " Timestamp('2017-07-06 07:46:47.200000'),\n",
       " Timestamp('2017-07-06 07:46:48.400000'),\n",
       " Timestamp('2017-07-06 07:46:50.800000'),\n",
       " Timestamp('2017-07-06 07:46:54.600000'),\n",
       " Timestamp('2017-07-06 07:46:57.900000'),\n",
       " Timestamp('2017-07-06 07:47:03.800000'),\n",
       " Timestamp('2017-07-06 07:47:07.100000'),\n",
       " Timestamp('2017-07-06 07:47:08.500000'),\n",
       " Timestamp('2017-07-06 07:47:12.800000'),\n",
       " Timestamp('2017-07-06 07:47:29.200000'),\n",
       " Timestamp('2017-07-06 07:47:31.500000'),\n",
       " Timestamp('2017-07-06 07:47:33.200000'),\n",
       " Timestamp('2017-07-06 07:47:46.400000'),\n",
       " Timestamp('2017-07-06 07:47:47.500000'),\n",
       " Timestamp('2017-07-06 07:47:49.700000'),\n",
       " Timestamp('2017-07-06 07:49:20.800000'),\n",
       " Timestamp('2017-07-06 09:27:49.400000'),\n",
       " Timestamp('2017-07-06 09:29:09.700000'),\n",
       " Timestamp('2017-07-06 09:29:15'),\n",
       " Timestamp('2017-07-06 09:29:17.500000'),\n",
       " Timestamp('2017-07-06 09:29:18.400000'),\n",
       " Timestamp('2017-07-06 09:29:24.300000'),\n",
       " Timestamp('2017-07-06 09:29:25.500000'),\n",
       " Timestamp('2017-07-06 09:29:25.900000'),\n",
       " Timestamp('2017-07-06 17:56:37.700000'),\n",
       " Timestamp('2017-07-06 17:56:39.300000'),\n",
       " Timestamp('2017-07-06 17:56:41.100000'),\n",
       " Timestamp('2017-07-06 17:56:42.200000'),\n",
       " Timestamp('2017-07-06 17:56:42.900000'),\n",
       " Timestamp('2017-07-06 17:56:45.800000'),\n",
       " Timestamp('2017-07-06 17:56:47'),\n",
       " Timestamp('2017-07-06 17:56:48.100000'),\n",
       " Timestamp('2017-07-06 17:56:49.200000'),\n",
       " Timestamp('2017-07-06 17:56:50.100000'),\n",
       " Timestamp('2017-07-06 17:56:50.900000'),\n",
       " Timestamp('2017-07-06 17:56:51.200000'),\n",
       " Timestamp('2017-07-10 11:13:19'),\n",
       " Timestamp('2017-07-10 11:13:19.900000')]"
      ]
     },
     "execution_count": 68,
     "metadata": {},
     "output_type": "execute_result"
    }
   ],
   "source": [
    "event_start_times[-100:]"
   ]
  },
  {
   "cell_type": "code",
   "execution_count": 21,
   "id": "9bb0c2c3",
   "metadata": {
    "ExecuteTime": {
     "end_time": "2022-09-04T03:33:31.935943Z",
     "start_time": "2022-09-04T03:33:31.910647Z"
    }
   },
   "outputs": [
    {
     "data": {
      "text/html": [
       "<div>\n",
       "<style scoped>\n",
       "    .dataframe tbody tr th:only-of-type {\n",
       "        vertical-align: middle;\n",
       "    }\n",
       "\n",
       "    .dataframe tbody tr th {\n",
       "        vertical-align: top;\n",
       "    }\n",
       "\n",
       "    .dataframe thead th {\n",
       "        text-align: right;\n",
       "    }\n",
       "</style>\n",
       "<table border=\"1\" class=\"dataframe\">\n",
       "  <thead>\n",
       "    <tr style=\"text-align: right;\">\n",
       "      <th></th>\n",
       "      <th>Time</th>\n",
       "      <th>DataCount (samples)</th>\n",
       "      <th>Interval (s)</th>\n",
       "      <th>ActivityCode (0=sedentary, 1= standing, 2=stepping)</th>\n",
       "      <th>CumulativeStepCount</th>\n",
       "      <th>Activity Score (MET.h)</th>\n",
       "      <th>Abs(sumDiff)</th>\n",
       "    </tr>\n",
       "  </thead>\n",
       "  <tbody>\n",
       "    <tr>\n",
       "      <th>0</th>\n",
       "      <td>42914.333183</td>\n",
       "      <td>0</td>\n",
       "      <td>7310.5</td>\n",
       "      <td>0</td>\n",
       "      <td>0</td>\n",
       "      <td>2.538368</td>\n",
       "      <td>4608</td>\n",
       "    </tr>\n",
       "    <tr>\n",
       "      <th>1</th>\n",
       "      <td>42914.417795</td>\n",
       "      <td>73105</td>\n",
       "      <td>1.9</td>\n",
       "      <td>1</td>\n",
       "      <td>0</td>\n",
       "      <td>0.000739</td>\n",
       "      <td>272</td>\n",
       "    </tr>\n",
       "    <tr>\n",
       "      <th>2</th>\n",
       "      <td>42914.417817</td>\n",
       "      <td>73124</td>\n",
       "      <td>3.2</td>\n",
       "      <td>2</td>\n",
       "      <td>1</td>\n",
       "      <td>0.001967</td>\n",
       "      <td>344</td>\n",
       "    </tr>\n",
       "    <tr>\n",
       "      <th>3</th>\n",
       "      <td>42914.417854</td>\n",
       "      <td>73156</td>\n",
       "      <td>4.9</td>\n",
       "      <td>2</td>\n",
       "      <td>2</td>\n",
       "      <td>0.002628</td>\n",
       "      <td>490</td>\n",
       "    </tr>\n",
       "    <tr>\n",
       "      <th>4</th>\n",
       "      <td>42914.417911</td>\n",
       "      <td>73205</td>\n",
       "      <td>1.2</td>\n",
       "      <td>2</td>\n",
       "      <td>3</td>\n",
       "      <td>0.001189</td>\n",
       "      <td>126</td>\n",
       "    </tr>\n",
       "    <tr>\n",
       "      <th>...</th>\n",
       "      <td>...</td>\n",
       "      <td>...</td>\n",
       "      <td>...</td>\n",
       "      <td>...</td>\n",
       "      <td>...</td>\n",
       "      <td>...</td>\n",
       "      <td>...</td>\n",
       "    </tr>\n",
       "    <tr>\n",
       "      <th>33489</th>\n",
       "      <td>42922.747802</td>\n",
       "      <td>7270231</td>\n",
       "      <td>0.8</td>\n",
       "      <td>2</td>\n",
       "      <td>28951</td>\n",
       "      <td>0.001033</td>\n",
       "      <td>215</td>\n",
       "    </tr>\n",
       "    <tr>\n",
       "      <th>33490</th>\n",
       "      <td>42922.747811</td>\n",
       "      <td>7270239</td>\n",
       "      <td>0.3</td>\n",
       "      <td>1</td>\n",
       "      <td>28951</td>\n",
       "      <td>0.000117</td>\n",
       "      <td>18</td>\n",
       "    </tr>\n",
       "    <tr>\n",
       "      <th>33491</th>\n",
       "      <td>42922.747815</td>\n",
       "      <td>7270242</td>\n",
       "      <td>321387.8</td>\n",
       "      <td>0</td>\n",
       "      <td>28951</td>\n",
       "      <td>111.593000</td>\n",
       "      <td>97037</td>\n",
       "    </tr>\n",
       "    <tr>\n",
       "      <th>33492</th>\n",
       "      <td>42926.467581</td>\n",
       "      <td>10484120</td>\n",
       "      <td>0.9</td>\n",
       "      <td>1</td>\n",
       "      <td>28951</td>\n",
       "      <td>0.000350</td>\n",
       "      <td>265</td>\n",
       "    </tr>\n",
       "    <tr>\n",
       "      <th>33493</th>\n",
       "      <td>42926.467591</td>\n",
       "      <td>10484129</td>\n",
       "      <td>5.1</td>\n",
       "      <td>1</td>\n",
       "      <td>28951</td>\n",
       "      <td>0.001983</td>\n",
       "      <td>4271023</td>\n",
       "    </tr>\n",
       "  </tbody>\n",
       "</table>\n",
       "<p>33494 rows × 7 columns</p>\n",
       "</div>"
      ],
      "text/plain": [
       "               Time  DataCount (samples)  Interval (s)  \\\n",
       "0      42914.333183                    0        7310.5   \n",
       "1      42914.417795                73105           1.9   \n",
       "2      42914.417817                73124           3.2   \n",
       "3      42914.417854                73156           4.9   \n",
       "4      42914.417911                73205           1.2   \n",
       "...             ...                  ...           ...   \n",
       "33489  42922.747802              7270231           0.8   \n",
       "33490  42922.747811              7270239           0.3   \n",
       "33491  42922.747815              7270242      321387.8   \n",
       "33492  42926.467581             10484120           0.9   \n",
       "33493  42926.467591             10484129           5.1   \n",
       "\n",
       "       ActivityCode (0=sedentary, 1= standing, 2=stepping)  \\\n",
       "0                                                      0     \n",
       "1                                                      1     \n",
       "2                                                      2     \n",
       "3                                                      2     \n",
       "4                                                      2     \n",
       "...                                                  ...     \n",
       "33489                                                  2     \n",
       "33490                                                  1     \n",
       "33491                                                  0     \n",
       "33492                                                  1     \n",
       "33493                                                  1     \n",
       "\n",
       "       CumulativeStepCount  Activity Score (MET.h)  Abs(sumDiff)  \n",
       "0                        0                2.538368          4608  \n",
       "1                        0                0.000739           272  \n",
       "2                        1                0.001967           344  \n",
       "3                        2                0.002628           490  \n",
       "4                        3                0.001189           126  \n",
       "...                    ...                     ...           ...  \n",
       "33489                28951                0.001033           215  \n",
       "33490                28951                0.000117            18  \n",
       "33491                28951              111.593000         97037  \n",
       "33492                28951                0.000350           265  \n",
       "33493                28951                0.001983       4271023  \n",
       "\n",
       "[33494 rows x 7 columns]"
      ]
     },
     "execution_count": 21,
     "metadata": {},
     "output_type": "execute_result"
    }
   ],
   "source": [
    "ap_df"
   ]
  },
  {
   "cell_type": "code",
   "execution_count": 56,
   "id": "66ff9843",
   "metadata": {
    "ExecuteTime": {
     "end_time": "2022-09-04T03:49:57.387382Z",
     "start_time": "2022-09-04T03:49:57.375672Z"
    }
   },
   "outputs": [],
   "source": [
    "fin = gzip.open(\"/mnt/nfs/niddk/ACT_30HZ_CSV/1/152570.csv.gz\", mode=\"rt\")\n",
    "\n",
    "values = []\n",
    "gt3x_file = fin\n",
    "gt3x_lines = [gt3x_file.readline().rstrip() for _ in range(11)]\n",
    "start_time = gt3x_lines[3][11:].strip() + \" \" + gt3x_lines[2][11:].strip()\n",
    "current_time = datetime.datetime.strptime(\n",
    "    start_time + \" UTC\", \"%m/%d/%Y %H:%M:%S %Z\")\n",
    "unflushed_start_date = current_time.date()\n",
    "pointer = 0"
   ]
  },
  {
   "cell_type": "code",
   "execution_count": 59,
   "id": "1cdc1cef",
   "metadata": {
    "ExecuteTime": {
     "end_time": "2022-09-04T03:51:47.291816Z",
     "start_time": "2022-09-04T03:51:47.281811Z"
    }
   },
   "outputs": [],
   "source": [
    "def check_label(pointer, check_time):\n",
    "    if ap_df is None:\n",
    "        return pointer, -1\n",
    "\n",
    "    while pointer < len(event_start_times):\n",
    "        if check_time < event_start_times[pointer]:\n",
    "            return pointer, -1\n",
    "        if event_start_times[pointer] <= check_time <= event_start_times[pointer] + event_intervals[pointer]:\n",
    "            return pointer, event_labels[pointer]\n",
    "\n",
    "        pointer += 1\n",
    "    return pointer, -1"
   ]
  },
  {
   "cell_type": "code",
   "execution_count": 60,
   "id": "24e3d605",
   "metadata": {
    "ExecuteTime": {
     "end_time": "2022-09-04T03:53:03.710338Z",
     "start_time": "2022-09-04T03:53:03.699240Z"
    }
   },
   "outputs": [
    {
     "data": {
      "text/plain": [
       "0"
      ]
     },
     "execution_count": 60,
     "metadata": {},
     "output_type": "execute_result"
    }
   ],
   "source": [
    "pointer"
   ]
  },
  {
   "cell_type": "code",
   "execution_count": 62,
   "id": "8f6c4435",
   "metadata": {
    "ExecuteTime": {
     "end_time": "2022-09-04T03:53:59.021933Z",
     "start_time": "2022-09-04T03:53:59.012814Z"
    }
   },
   "outputs": [
    {
     "data": {
      "text/plain": [
       "Timestamp('2017-06-28 07:59:47')"
      ]
     },
     "execution_count": 62,
     "metadata": {},
     "output_type": "execute_result"
    }
   ],
   "source": [
    "event_start_times[pointer]"
   ]
  },
  {
   "cell_type": "code",
   "execution_count": 61,
   "id": "5147fb24",
   "metadata": {
    "ExecuteTime": {
     "end_time": "2022-09-04T03:53:28.549543Z",
     "start_time": "2022-09-04T03:53:28.540171Z"
    }
   },
   "outputs": [
    {
     "data": {
      "text/plain": [
       "datetime.datetime(2017, 6, 28, 0, 0)"
      ]
     },
     "execution_count": 61,
     "metadata": {},
     "output_type": "execute_result"
    }
   ],
   "source": [
    "current_time"
   ]
  },
  {
   "cell_type": "code",
   "execution_count": null,
   "id": "867522a8",
   "metadata": {},
   "outputs": [],
   "source": [
    "while True:\n",
    "    lines = []\n",
    "    while len(lines) < int(GT3X_FREQUENCY * RESOLUTION):\n",
    "        l = gt3x_file.readline().rstrip()\n",
    "        if len(l) == 0:\n",
    "            break\n",
    "        lines.append(l)\n",
    "\n",
    "    if len(lines) < int(GT3X_FREQUENCY * RESOLUTION):\n",
    "        break\n",
    "\n",
    "    acc = np.array([[float(x) for x in l.split(',')] for l in lines])\n",
    "    acc = np.mean(acc, axis=0)\n",
    "    pointer, label = check_label(pointer, current_time)\n",
    "    values.append([current_time, acc[0], acc[1], acc[2], check_non_wear(\n",
    "        subject_id, current_time), check_sleeping(subject_id, current_time), label])\n",
    "\n",
    "    current_time = current_time + timedelta(seconds=RESOLUTION)"
   ]
  },
  {
   "cell_type": "code",
   "execution_count": 57,
   "id": "4293aeda",
   "metadata": {
    "ExecuteTime": {
     "end_time": "2022-09-04T03:49:59.664777Z",
     "start_time": "2022-09-04T03:49:59.655935Z"
    }
   },
   "outputs": [
    {
     "data": {
      "text/plain": [
       "datetime.datetime(2017, 6, 28, 0, 0)"
      ]
     },
     "execution_count": 57,
     "metadata": {},
     "output_type": "execute_result"
    }
   ],
   "source": [
    "current_time"
   ]
  },
  {
   "cell_type": "code",
   "execution_count": 53,
   "id": "00768448",
   "metadata": {
    "ExecuteTime": {
     "end_time": "2022-09-04T03:48:35.447077Z",
     "start_time": "2022-09-04T03:48:35.437355Z"
    }
   },
   "outputs": [
    {
     "data": {
      "text/plain": [
       "['------------ Data File Created By ActiGraph GT3X+ ActiLife v6.13.3 Firmware v3.2.1 date format M/d/yyyy at 30 Hz  Filter Normal -----------',\n",
       " 'Serial Number: NEO1F08120254',\n",
       " 'Start Time 00:00:00',\n",
       " 'Start Date 6/28/2017',\n",
       " 'Epoch Period (hh:mm:ss) 00:00:00',\n",
       " 'Download Time 12:43:25',\n",
       " 'Download Date 7/21/2017',\n",
       " 'Current Memory Address: 0',\n",
       " 'Current Battery Voltage: 3.91     Mode = 12',\n",
       " '--------------------------------------------------',\n",
       " 'Accelerometer X,Accelerometer Y,Accelerometer Z']"
      ]
     },
     "execution_count": 53,
     "metadata": {},
     "output_type": "execute_result"
    }
   ],
   "source": [
    "gt3x_lines"
   ]
  },
  {
   "cell_type": "code",
   "execution_count": null,
   "id": "703f0563",
   "metadata": {},
   "outputs": [],
   "source": [
    "x, timestamps, labels = [d[0].reshape(-1, int(1/downsample_window * cnn_window_size),\n",
    "                                          int(gt3x_frequency*downsample_window), 1) for d in data], [d[1] for d in data], [d[2] for d in data]"
   ]
  },
  {
   "cell_type": "code",
   "execution_count": 187,
   "id": "1cbd40f1",
   "metadata": {
    "ExecuteTime": {
     "end_time": "2022-09-04T05:56:41.528065Z",
     "start_time": "2022-09-04T05:56:41.520024Z"
    }
   },
   "outputs": [],
   "source": []
  }
 ],
 "metadata": {
  "kernelspec": {
   "display_name": "env_dgl",
   "language": "python",
   "name": "env_dgl"
  },
  "language_info": {
   "codemirror_mode": {
    "name": "ipython",
    "version": 3
   },
   "file_extension": ".py",
   "mimetype": "text/x-python",
   "name": "python",
   "nbconvert_exporter": "python",
   "pygments_lexer": "ipython3",
   "version": "3.8.10"
  }
 },
 "nbformat": 4,
 "nbformat_minor": 5
}
