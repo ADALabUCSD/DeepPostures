{
 "cells": [
  {
   "cell_type": "code",
   "execution_count": 1,
   "id": "78f4aded",
   "metadata": {
    "ExecuteTime": {
     "end_time": "2022-09-04T07:30:45.486217Z",
     "start_time": "2022-09-04T07:30:43.486517Z"
    }
   },
   "outputs": [
    {
     "name": "stdout",
     "output_type": "stream",
     "text": [
      "WARNING:tensorflow:Deprecation warnings have been disabled. Set TF_ENABLE_DEPRECATION_WARNINGS=1 to re-enable them.\n"
     ]
    },
    {
     "name": "stderr",
     "output_type": "stream",
     "text": [
      "2022-09-04 02:30:43.793681: I tensorflow/stream_executor/platform/default/dso_loader.cc:49] Successfully opened dynamic library libcudart.so.11.0\n"
     ]
    }
   ],
   "source": [
    "from commons import input_iterator\n",
    "import pandas as pd\n",
    "import os\n",
    "import datetime\n",
    "import gzip\n",
    "import glob\n",
    "import h5py\n",
    "import numpy as np\n",
    "from tqdm import tqdm\n",
    "from pathlib import Path\n",
    "import shutil\n",
    "import multiprocessing\n",
    "from sklearn.metrics import accuracy_score"
   ]
  },
  {
   "cell_type": "code",
   "execution_count": 2,
   "id": "7e28a8a7",
   "metadata": {
    "ExecuteTime": {
     "end_time": "2022-09-04T07:54:46.567763Z",
     "start_time": "2022-09-04T07:30:48.658292Z"
    }
   },
   "outputs": [
    {
     "name": "stderr",
     "output_type": "stream",
     "text": [
      "100%|██████████| 213/213 [23:57<00:00,  6.75s/it]\n"
     ]
    }
   ],
   "source": [
    "# df_split = pd.read_csv(\"/mnt/nfs/niddk/ACT_final_randomization_5-13-2019.csv\")\n",
    "\n",
    "# test_ids = df_split[df_split['Randomization'] == 'test']['ID']\n",
    "\n",
    "# all_data = glob.glob(\"/mnt/nfs/niddk/ACT_30HZ_CSV_preprocessed/*/*\")\n",
    "\n",
    "# test_files = sorted([x for x in all_data if int(os.path.basename(x)) in set(test_ids)])\n",
    "\n",
    "# out_root = \"/mnt/nfs/niddk/ACT_30HZ_CSV_preprocessed_sampled\"\n",
    "# shutil.rmtree(out_root, ignore_errors=True)\n",
    "# os.makedirs(out_root)\n",
    "# partition = 8\n",
    "# def apply_fn(x):\n",
    "#     i = x[0]\n",
    "#     test_dir = x[1]\n",
    "#     out_dir = os.path.join(out_root, str(i % partition))\n",
    "#     oid = os.path.basename(test_dir)\n",
    "#     dirname = os.path.dirname(test_dir)\n",
    "#     fnames = [name.split('.')[0] for name in os.listdir(test_dir) if not name.startswith('.')]\n",
    "#     fnames.sort()\n",
    "#     for i in range(len(fnames) - 1):\n",
    "#         assert datetime.datetime.strptime(fnames[i+1], \"%Y-%m-%d\").date() - datetime.datetime.strptime(fnames[i], \"%Y-%m-%d\").date() == datetime.timedelta(days=1)\n",
    "    \n",
    "#     for i, fname in enumerate(fnames):\n",
    "#         h5f = h5py.File(os.path.join(test_dir, '{}.h5'.format(fname)), 'r')\n",
    "#         if i == 0:\n",
    "#             timestamps = h5f.get('time')[:]\n",
    "#             data = h5f.get('data')[:]\n",
    "#             sleeping = h5f.get('sleeping')[:]\n",
    "#             non_wear = h5f.get('non_wear')[:]\n",
    "#             label = h5f.get('label')[:]\n",
    "#         else:\n",
    "#             timestamps = np.concatenate((timestamps, h5f.get('time')[:]))\n",
    "#             data = np.concatenate((data, h5f.get('data')[:]))\n",
    "#             sleeping = np.concatenate((sleeping, h5f.get('sleeping')[:]))\n",
    "#             non_wear = np.concatenate((non_wear, h5f.get('non_wear')[:]))\n",
    "#             label = np.concatenate((label, h5f.get('label')[:]))\n",
    "#     labeld_indices = np.where(label != -1)[0]\n",
    "#     sampled_indices = np.random.choice(labeld_indices, 100, replace=False) \n",
    "#     interval = 10\n",
    "#     desired = 14 * 60\n",
    "#     first_half = 7 * 60\n",
    "#     need = desired // interval\n",
    "#     for idx in sampled_indices:\n",
    "#         sublabel = label[idx:idx + need]\n",
    "#     #     all labeld and enough\n",
    "#         if sublabel.shape[0] == need and np.where(sublabel == -1)[0].shape[0] == 0:\n",
    "#             for offset in np.array([x for x in range(1, 8)]) * 6 + first_half // interval:\n",
    "#     #             print(offset)\n",
    "#                 sub_timestamps = timestamps[idx:idx + offset]\n",
    "#                 sub_data = data[idx:idx + offset]\n",
    "#                 sub_sleeping = sleeping[idx:idx + offset]\n",
    "#                 sub_non_wear = non_wear[idx:idx + offset]\n",
    "#                 sub_label = label[idx:idx + offset]\n",
    "                \n",
    "#                 name = \"{}_{}_{}\".format(oid, idx, offset)\n",
    "#                 dummy_name = fnames[0] + '.h5'\n",
    "#                 sample_out_dir = os.path.join(out_dir, name)\n",
    "#                 Path(sample_out_dir).mkdir(parents=True, exist_ok=True)\n",
    "#                 out_filename = os.path.join(sample_out_dir, dummy_name)\n",
    "#                 h5f_out = h5py.File(out_filename, \"w\")\n",
    "#                 h5f_out.create_dataset('time', data=sub_timestamps, chunks=True, maxshape=(None,))\n",
    "#                 h5f_out.create_dataset('data', data=sub_data, chunks=True, maxshape=(None, 100, 3))\n",
    "#                 h5f_out.create_dataset('non_wear', data=sub_non_wear, chunks=True, maxshape=(None,))\n",
    "#                 h5f_out.create_dataset('sleeping', data=sub_sleeping, chunks=True, maxshape=(None,))\n",
    "#                 h5f_out.create_dataset('label', data=sub_label, chunks=True, maxshape=(None,))\n",
    "#                 h5f_out.close()\n",
    "\n",
    "# pool = multiprocessing.Pool(processes=40)\n",
    "# mapped_values = list(tqdm(\n",
    "#     pool.imap_unordered(apply_fn, list(enumerate(test_files))), total=len(test_files)))\n",
    "# pool.close()\n",
    "# pool.join()\n",
    "\n",
    "    "
   ]
  },
  {
   "cell_type": "code",
   "execution_count": null,
   "id": "f7c12bd8",
   "metadata": {},
   "outputs": [],
   "source": []
  },
  {
   "cell_type": "code",
   "execution_count": 68,
   "id": "3a3cfafb",
   "metadata": {
    "ExecuteTime": {
     "end_time": "2022-09-04T07:16:07.964753Z",
     "start_time": "2022-09-04T07:16:07.956003Z"
    }
   },
   "outputs": [],
   "source": [
    "h5f = h5py.File(\"/mnt/nfs/niddk/ACT_30HZ_CSV_preprocessed_sampled/7/151667_120933_48/2017-10-23.h5\", 'r')"
   ]
  },
  {
   "cell_type": "code",
   "execution_count": 71,
   "id": "71b435bf",
   "metadata": {
    "ExecuteTime": {
     "end_time": "2022-09-04T07:16:37.359580Z",
     "start_time": "2022-09-04T07:16:37.348295Z"
    }
   },
   "outputs": [
    {
     "data": {
      "text/plain": [
       "27"
      ]
     },
     "execution_count": 71,
     "metadata": {},
     "output_type": "execute_result"
    }
   ],
   "source": [
    "len(h5f.get('label')[:])"
   ]
  },
  {
   "cell_type": "code",
   "execution_count": 84,
   "id": "9a9bd103",
   "metadata": {
    "ExecuteTime": {
     "end_time": "2022-09-04T19:43:09.764836Z",
     "start_time": "2022-09-04T19:43:09.752851Z"
    }
   },
   "outputs": [],
   "source": [
    "def read_file(predfile):\n",
    "    filename = os.path.basename(predfile).split('.')[0]\n",
    "    oid, index, offset = filename.split(\"_\")\n",
    "    index = int(index)\n",
    "    offset = int(offset)\n",
    "    df = pd.read_csv(predfile)\n",
    "    df['oid'] = oid\n",
    "    df['index'] = index\n",
    "    df['offset'] = offset\n",
    "    \n",
    "    df_first = df.iloc[:42]\n",
    "    df_second = df.iloc[42:]\n",
    "    return df_first, df_second\n",
    "#     df_all_list_first.append(df.iloc[:42])\n",
    "#     df_all_list_sec.append(df.iloc[42:])\n",
    "    "
   ]
  },
  {
   "cell_type": "code",
   "execution_count": 162,
   "id": "e6fed922",
   "metadata": {
    "ExecuteTime": {
     "end_time": "2022-09-04T22:20:23.143681Z",
     "start_time": "2022-09-04T22:20:23.134017Z"
    }
   },
   "outputs": [],
   "source": [
    "def get_acc(df_all_second):\n",
    "    accs = {}\n",
    "    offsets = sorted(df_all_second[\"offset\"].unique())\n",
    "    for off in offsets:\n",
    "        df_score = df_all_second[df_all_second['offset'] == off]\n",
    "        minute = (off - 42) // 6\n",
    "        acc = accuracy_score(df_score['label'], df_score['prediction'])\n",
    "        accs[minute] = acc\n",
    "    return accs"
   ]
  },
  {
   "cell_type": "code",
   "execution_count": 163,
   "id": "cddd88d8",
   "metadata": {
    "ExecuteTime": {
     "end_time": "2022-09-04T22:20:24.247189Z",
     "start_time": "2022-09-04T22:20:24.230110Z"
    }
   },
   "outputs": [],
   "source": [
    "def read_cast(preds_root):\n",
    "    \n",
    "\n",
    "    all_preds = glob.glob(os.path.join(preds_root, \"*.csv\"))\n",
    "\n",
    "\n",
    "    pool = multiprocessing.Pool(processes=40)\n",
    "    df_list_all = list(tqdm(\n",
    "        pool.imap_unordered(read_file, list(all_preds)), total=len(all_preds)))\n",
    "    pool.close()\n",
    "    pool.join()\n",
    "    df_all_list_first = []\n",
    "    df_all_list_second = []\n",
    "    for df_first, df_second in df_list_all:\n",
    "        df_all_list_first.append(df_first)\n",
    "        df_all_list_second.append(df_second)\n",
    "    df_all_first = pd.concat(df_all_list_first, ignore_index=True, sort=False)\n",
    "    df_all_second = pd.concat(df_all_list_second, ignore_index=True, sort=False)\n",
    "    df_all_second['correct'] = df_all_second['label'] == df_all_second['prediction']\n",
    "    df_oid_groupby = df_all_second.groupby([\"oid\", \"offset\"]).agg({'correct': \"sum\", 'index': \"count\"})\n",
    "    df_oid_groupby['acc'] = df_oid_groupby['correct'] / df_oid_groupby['index']\n",
    "    df_7 = df_oid_groupby[df_oid_groupby.index.get_level_values(1) == 84]\n",
    "    df_rel = df_oid_groupby.reset_index(level=1).merge(df_7[['acc']], on=['oid'], suffixes=('', '7'))\n",
    "    df_rel['rel_acc'] = df_rel['acc'] / df_rel['acc7']\n",
    "    df_rel_out = df_rel.groupby('offset').agg({'acc': \"mean\", 'rel_acc': \"mean\"})\n",
    "    accs = get_acc(df_all_second)\n",
    "        \n",
    "    return df_all_first, df_all_second, df_rel_out, accs\n",
    "    "
   ]
  },
  {
   "cell_type": "code",
   "execution_count": null,
   "id": "fc002f45",
   "metadata": {},
   "outputs": [],
   "source": [
    "preds_root = \"/mnt/nfs/niddk/ACT_PREDICTIONS_SAMPLED_WRAP/CHAP_ALL_ADULTS\"\n",
    "df_all_first_wrap, df_all_second_wrap, df_rel_out_wrap, accs_wrap = read_cast(preds_root)"
   ]
  },
  {
   "cell_type": "code",
   "execution_count": 107,
   "id": "8c046bba",
   "metadata": {
    "ExecuteTime": {
     "end_time": "2022-09-04T20:03:39.321781Z",
     "start_time": "2022-09-04T20:00:43.560693Z"
    }
   },
   "outputs": [
    {
     "name": "stderr",
     "output_type": "stream",
     "text": [
      "100%|██████████| 148953/148953 [01:42<00:00, 1455.16it/s]\n"
     ]
    }
   ],
   "source": [
    "preds_root = \"/mnt/nfs/niddk/ACT_PREDICTIONS_SAMPLED_ZERO/CHAP_ALL_ADULTS\"\n",
    "df_all_first_zero, df_all_second_zero, df_rel_out_zero, accs_zero = read_cast(preds_root)"
   ]
  },
  {
   "cell_type": "code",
   "execution_count": 110,
   "id": "a5b84ea5",
   "metadata": {
    "ExecuteTime": {
     "end_time": "2022-09-04T21:29:22.264622Z",
     "start_time": "2022-09-04T21:28:56.427586Z"
    }
   },
   "outputs": [
    {
     "name": "stdout",
     "output_type": "stream",
     "text": [
      "0.8344052598246874\n"
     ]
    }
   ],
   "source": [
    "print(accuracy_score(df_all_first_zero['label'], df_all_first_zero['prediction'])) "
   ]
  },
  {
   "cell_type": "code",
   "execution_count": 113,
   "id": "ed822538",
   "metadata": {
    "ExecuteTime": {
     "end_time": "2022-09-04T21:30:24.065307Z",
     "start_time": "2022-09-04T21:30:24.054049Z"
    }
   },
   "outputs": [
    {
     "data": {
      "text/plain": [
       "{1: 0.9089007942102543,\n",
       " 2: 0.8804494258815421,\n",
       " 3: 0.8558698978126583,\n",
       " 4: 0.8410306718674123,\n",
       " 5: 0.8321522001347181,\n",
       " 6: 0.8301011430152837,\n",
       " 7: 0.8351952181784411}"
      ]
     },
     "execution_count": 113,
     "metadata": {},
     "output_type": "execute_result"
    }
   ],
   "source": [
    "accs_zero"
   ]
  },
  {
   "cell_type": "code",
   "execution_count": null,
   "id": "6bcc7395",
   "metadata": {},
   "outputs": [],
   "source": [
    "df_all_second_zero"
   ]
  },
  {
   "cell_type": "code",
   "execution_count": 120,
   "id": "f838a5c2",
   "metadata": {
    "ExecuteTime": {
     "end_time": "2022-09-04T21:34:12.304915Z",
     "start_time": "2022-09-04T21:34:12.033758Z"
    }
   },
   "outputs": [
    {
     "name": "stdout",
     "output_type": "stream",
     "text": [
      "         segment            timestamp    label prediction     oid   index  offset  correct\n",
      "0              0  2017-10-02 10:26:40  sitting    sitting  154558  116038      60     True\n",
      "1              0  2017-10-02 10:26:50  sitting    sitting  154558  116038      60     True\n",
      "2              0  2017-10-02 10:27:00  sitting    sitting  154558  116038      60     True\n",
      "3              0  2017-10-02 10:27:10  sitting    sitting  154558  116038      60     True\n",
      "4              0  2017-10-02 10:27:20  sitting    sitting  154558  116038      60     True\n",
      "5              0  2017-10-02 10:27:30  sitting    sitting  154558  116038      60     True\n",
      "6              0  2017-10-02 10:27:40  sitting    sitting  154558  116038      60     True\n",
      "7              0  2017-10-02 10:27:50  sitting    sitting  154558  116038      60     True\n",
      "8              0  2017-10-02 10:28:00  sitting    sitting  154558  116038      60     True\n",
      "9              0  2017-10-02 10:28:10  sitting    sitting  154558  116038      60     True\n",
      "10             0  2017-10-02 10:28:20  sitting    sitting  154558  116038      60     True\n",
      "11             0  2017-10-02 10:28:30  sitting    sitting  154558  116038      60     True\n",
      "12             0  2017-10-02 10:28:40  sitting    sitting  154558  116038      60     True\n",
      "13             0  2017-10-02 10:28:50  sitting    sitting  154558  116038      60     True\n",
      "14             0  2017-10-02 10:29:00  sitting    sitting  154558  116038      60     True\n",
      "15             0  2017-10-02 10:29:10  sitting    sitting  154558  116038      60     True\n",
      "16             0  2017-10-02 10:29:20  sitting    sitting  154558  116038      60     True\n",
      "17             0  2017-10-02 10:29:30  sitting    sitting  154558  116038      60     True\n",
      "1103184        0  2017-10-02 10:26:40  sitting    sitting  154558  116038      54     True\n",
      "1103185        0  2017-10-02 10:26:50  sitting    sitting  154558  116038      54     True\n",
      "1103186        0  2017-10-02 10:27:00  sitting    sitting  154558  116038      54     True\n",
      "1103187        0  2017-10-02 10:27:10  sitting    sitting  154558  116038      54     True\n",
      "1103188        0  2017-10-02 10:27:20  sitting    sitting  154558  116038      54     True\n",
      "1103189        0  2017-10-02 10:27:30  sitting    sitting  154558  116038      54     True\n",
      "1103190        0  2017-10-02 10:27:40  sitting    sitting  154558  116038      54     True\n",
      "1103191        0  2017-10-02 10:27:50  sitting    sitting  154558  116038      54     True\n",
      "1103192        0  2017-10-02 10:28:00  sitting    sitting  154558  116038      54     True\n",
      "1103193        0  2017-10-02 10:28:10  sitting    sitting  154558  116038      54     True\n",
      "1103194        0  2017-10-02 10:28:20  sitting    sitting  154558  116038      54     True\n",
      "1103195        0  2017-10-02 10:28:30  sitting    sitting  154558  116038      54     True\n",
      "1462728        0  2017-10-02 10:26:40  sitting    sitting  154558  116038      48     True\n",
      "1462729        0  2017-10-02 10:26:50  sitting    sitting  154558  116038      48     True\n",
      "1462730        0  2017-10-02 10:27:00  sitting    sitting  154558  116038      48     True\n",
      "1462731        0  2017-10-02 10:27:10  sitting    sitting  154558  116038      48     True\n",
      "1462732        0  2017-10-02 10:27:20  sitting    sitting  154558  116038      48     True\n",
      "1462733        0  2017-10-02 10:27:30  sitting    sitting  154558  116038      48     True\n",
      "1723056        0  2017-10-02 10:26:40  sitting    sitting  154558  116038      78     True\n",
      "1723057        0  2017-10-02 10:26:50  sitting    sitting  154558  116038      78     True\n",
      "1723058        0  2017-10-02 10:27:00  sitting    sitting  154558  116038      78     True\n",
      "1723059        0  2017-10-02 10:27:10  sitting    sitting  154558  116038      78     True\n",
      "1723060        0  2017-10-02 10:27:20  sitting    sitting  154558  116038      78     True\n",
      "1723061        0  2017-10-02 10:27:30  sitting    sitting  154558  116038      78     True\n",
      "1723062        0  2017-10-02 10:27:40  sitting    sitting  154558  116038      78     True\n",
      "1723063        0  2017-10-02 10:27:50  sitting    sitting  154558  116038      78     True\n",
      "1723064        0  2017-10-02 10:28:00  sitting    sitting  154558  116038      78     True\n",
      "1723065        0  2017-10-02 10:28:10  sitting    sitting  154558  116038      78     True\n",
      "1723066        0  2017-10-02 10:28:20  sitting    sitting  154558  116038      78     True\n",
      "1723067        0  2017-10-02 10:28:30  sitting    sitting  154558  116038      78     True\n",
      "1723068        0  2017-10-02 10:28:40  sitting    sitting  154558  116038      78     True\n",
      "1723069        0  2017-10-02 10:28:50  sitting    sitting  154558  116038      78     True\n",
      "1723070        0  2017-10-02 10:29:00  sitting    sitting  154558  116038      78     True\n",
      "1723071        0  2017-10-02 10:29:10  sitting    sitting  154558  116038      78     True\n",
      "1723072        0  2017-10-02 10:29:20  sitting    sitting  154558  116038      78     True\n",
      "1723073        0  2017-10-02 10:29:30  sitting    sitting  154558  116038      78     True\n",
      "1723074        0  2017-10-02 10:29:40  sitting    sitting  154558  116038      78     True\n",
      "1723075        0  2017-10-02 10:29:50  sitting    sitting  154558  116038      78     True\n",
      "1723076        0  2017-10-02 10:30:00  sitting    sitting  154558  116038      78     True\n",
      "1723077        0  2017-10-02 10:30:10  sitting    sitting  154558  116038      78     True\n",
      "1723078        0  2017-10-02 10:30:20  sitting    sitting  154558  116038      78     True\n",
      "1723079        0  2017-10-02 10:30:30  sitting    sitting  154558  116038      78     True\n",
      "1723080        0  2017-10-02 10:30:40  sitting    sitting  154558  116038      78     True\n",
      "1723081        0  2017-10-02 10:30:50  sitting    sitting  154558  116038      78     True\n",
      "1723082        0  2017-10-02 10:31:00  sitting    sitting  154558  116038      78     True\n",
      "1723083        0  2017-10-02 10:31:10  sitting    sitting  154558  116038      78     True\n",
      "1723084        0  2017-10-02 10:31:20  sitting    sitting  154558  116038      78     True\n",
      "1723085        0  2017-10-02 10:31:30  sitting    sitting  154558  116038      78     True\n",
      "1723086        0  2017-10-02 10:31:40  sitting    sitting  154558  116038      78     True\n",
      "1723087        0  2017-10-02 10:31:50  sitting    sitting  154558  116038      78     True\n",
      "1723088        0  2017-10-02 10:32:00  sitting    sitting  154558  116038      78     True\n",
      "1723089        0  2017-10-02 10:32:10  sitting    sitting  154558  116038      78     True\n",
      "1723090        0  2017-10-02 10:32:20  sitting    sitting  154558  116038      78     True\n",
      "1723091        0  2017-10-02 10:32:30  sitting    sitting  154558  116038      78     True\n",
      "2050356        0  2017-10-02 10:26:40  sitting    sitting  154558  116038      72     True\n",
      "2050357        0  2017-10-02 10:26:50  sitting    sitting  154558  116038      72     True\n",
      "2050358        0  2017-10-02 10:27:00  sitting    sitting  154558  116038      72     True\n",
      "2050359        0  2017-10-02 10:27:10  sitting    sitting  154558  116038      72     True\n",
      "2050360        0  2017-10-02 10:27:20  sitting    sitting  154558  116038      72     True\n",
      "2050361        0  2017-10-02 10:27:30  sitting    sitting  154558  116038      72     True\n",
      "2050362        0  2017-10-02 10:27:40  sitting    sitting  154558  116038      72     True\n",
      "2050363        0  2017-10-02 10:27:50  sitting    sitting  154558  116038      72     True\n",
      "2050364        0  2017-10-02 10:28:00  sitting    sitting  154558  116038      72     True\n",
      "2050365        0  2017-10-02 10:28:10  sitting    sitting  154558  116038      72     True\n",
      "2050366        0  2017-10-02 10:28:20  sitting    sitting  154558  116038      72     True\n",
      "2050367        0  2017-10-02 10:28:30  sitting    sitting  154558  116038      72     True\n",
      "2050368        0  2017-10-02 10:28:40  sitting    sitting  154558  116038      72     True\n",
      "2050369        0  2017-10-02 10:28:50  sitting    sitting  154558  116038      72     True\n",
      "2050370        0  2017-10-02 10:29:00  sitting    sitting  154558  116038      72     True\n",
      "2050371        0  2017-10-02 10:29:10  sitting    sitting  154558  116038      72     True\n",
      "2050372        0  2017-10-02 10:29:20  sitting    sitting  154558  116038      72     True\n",
      "2050373        0  2017-10-02 10:29:30  sitting    sitting  154558  116038      72     True\n",
      "2050374        0  2017-10-02 10:29:40  sitting    sitting  154558  116038      72     True\n",
      "2050375        0  2017-10-02 10:29:50  sitting    sitting  154558  116038      72     True\n",
      "2050376        0  2017-10-02 10:30:00  sitting    sitting  154558  116038      72     True\n",
      "2050377        0  2017-10-02 10:30:10  sitting    sitting  154558  116038      72     True\n",
      "2050378        0  2017-10-02 10:30:20  sitting    sitting  154558  116038      72     True\n",
      "2050379        0  2017-10-02 10:30:30  sitting    sitting  154558  116038      72     True\n",
      "2050380        0  2017-10-02 10:30:40  sitting    sitting  154558  116038      72     True\n",
      "2050381        0  2017-10-02 10:30:50  sitting    sitting  154558  116038      72     True\n",
      "2050382        0  2017-10-02 10:31:00  sitting    sitting  154558  116038      72     True\n",
      "2050383        0  2017-10-02 10:31:10  sitting    sitting  154558  116038      72     True\n",
      "2050384        0  2017-10-02 10:31:20  sitting    sitting  154558  116038      72     True\n",
      "2050385        0  2017-10-02 10:31:30  sitting    sitting  154558  116038      72     True\n",
      "2833704        0  2017-10-02 10:26:40  sitting    sitting  154558  116038      84     True\n",
      "2833705        0  2017-10-02 10:26:50  sitting    sitting  154558  116038      84     True\n",
      "2833706        0  2017-10-02 10:27:00  sitting    sitting  154558  116038      84     True\n",
      "2833707        0  2017-10-02 10:27:10  sitting    sitting  154558  116038      84     True\n",
      "2833708        0  2017-10-02 10:27:20  sitting    sitting  154558  116038      84     True\n",
      "2833709        0  2017-10-02 10:27:30  sitting    sitting  154558  116038      84     True\n",
      "2833710        0  2017-10-02 10:27:40  sitting    sitting  154558  116038      84     True\n",
      "2833711        0  2017-10-02 10:27:50  sitting    sitting  154558  116038      84     True\n",
      "2833712        0  2017-10-02 10:28:00  sitting    sitting  154558  116038      84     True\n",
      "2833713        0  2017-10-02 10:28:10  sitting    sitting  154558  116038      84     True\n",
      "2833714        0  2017-10-02 10:28:20  sitting    sitting  154558  116038      84     True\n",
      "2833715        0  2017-10-02 10:28:30  sitting    sitting  154558  116038      84     True\n",
      "2833716        0  2017-10-02 10:28:40  sitting    sitting  154558  116038      84     True\n",
      "2833717        0  2017-10-02 10:28:50  sitting    sitting  154558  116038      84     True\n",
      "2833718        0  2017-10-02 10:29:00  sitting    sitting  154558  116038      84     True\n",
      "2833719        0  2017-10-02 10:29:10  sitting    sitting  154558  116038      84     True\n",
      "2833720        0  2017-10-02 10:29:20  sitting    sitting  154558  116038      84     True\n",
      "2833721        0  2017-10-02 10:29:30  sitting    sitting  154558  116038      84     True\n",
      "2833722        0  2017-10-02 10:29:40  sitting    sitting  154558  116038      84     True\n",
      "2833723        0  2017-10-02 10:29:50  sitting    sitting  154558  116038      84     True\n",
      "2833724        0  2017-10-02 10:30:00  sitting    sitting  154558  116038      84     True\n",
      "2833725        0  2017-10-02 10:30:10  sitting    sitting  154558  116038      84     True\n",
      "2833726        0  2017-10-02 10:30:20  sitting    sitting  154558  116038      84     True\n",
      "2833727        0  2017-10-02 10:30:30  sitting    sitting  154558  116038      84     True\n",
      "2833728        0  2017-10-02 10:30:40  sitting    sitting  154558  116038      84     True\n",
      "2833729        0  2017-10-02 10:30:50  sitting    sitting  154558  116038      84     True\n",
      "2833730        0  2017-10-02 10:31:00  sitting    sitting  154558  116038      84     True\n",
      "2833731        0  2017-10-02 10:31:10  sitting    sitting  154558  116038      84     True\n",
      "2833732        0  2017-10-02 10:31:20  sitting    sitting  154558  116038      84     True\n",
      "2833733        0  2017-10-02 10:31:30  sitting    sitting  154558  116038      84     True\n",
      "2833734        0  2017-10-02 10:31:40  sitting    sitting  154558  116038      84     True\n",
      "2833735        0  2017-10-02 10:31:50  sitting    sitting  154558  116038      84     True\n",
      "2833736        0  2017-10-02 10:32:00  sitting    sitting  154558  116038      84     True\n",
      "2833737        0  2017-10-02 10:32:10  sitting    sitting  154558  116038      84     True\n",
      "2833738        0  2017-10-02 10:32:20  sitting    sitting  154558  116038      84     True\n",
      "2833739        0  2017-10-02 10:32:30  sitting    sitting  154558  116038      84     True\n",
      "2833740        0  2017-10-02 10:32:40  sitting    sitting  154558  116038      84     True\n",
      "2833741        0  2017-10-02 10:32:50  sitting    sitting  154558  116038      84     True\n",
      "2833742        0  2017-10-02 10:33:00  sitting    sitting  154558  116038      84     True\n",
      "2833743        0  2017-10-02 10:33:10  sitting    sitting  154558  116038      84     True\n",
      "2833744        0  2017-10-02 10:33:20  sitting    sitting  154558  116038      84     True\n",
      "2833745        0  2017-10-02 10:33:30  sitting    sitting  154558  116038      84     True\n",
      "3122982        0  2017-10-02 10:26:40  sitting    sitting  154558  116038      66     True\n",
      "3122983        0  2017-10-02 10:26:50  sitting    sitting  154558  116038      66     True\n",
      "3122984        0  2017-10-02 10:27:00  sitting    sitting  154558  116038      66     True\n",
      "3122985        0  2017-10-02 10:27:10  sitting    sitting  154558  116038      66     True\n",
      "3122986        0  2017-10-02 10:27:20  sitting    sitting  154558  116038      66     True\n",
      "3122987        0  2017-10-02 10:27:30  sitting    sitting  154558  116038      66     True\n",
      "3122988        0  2017-10-02 10:27:40  sitting    sitting  154558  116038      66     True\n",
      "3122989        0  2017-10-02 10:27:50  sitting    sitting  154558  116038      66     True\n",
      "3122990        0  2017-10-02 10:28:00  sitting    sitting  154558  116038      66     True\n",
      "3122991        0  2017-10-02 10:28:10  sitting    sitting  154558  116038      66     True\n",
      "3122992        0  2017-10-02 10:28:20  sitting    sitting  154558  116038      66     True\n",
      "3122993        0  2017-10-02 10:28:30  sitting    sitting  154558  116038      66     True\n",
      "3122994        0  2017-10-02 10:28:40  sitting    sitting  154558  116038      66     True\n",
      "3122995        0  2017-10-02 10:28:50  sitting    sitting  154558  116038      66     True\n",
      "3122996        0  2017-10-02 10:29:00  sitting    sitting  154558  116038      66     True\n",
      "3122997        0  2017-10-02 10:29:10  sitting    sitting  154558  116038      66     True\n",
      "3122998        0  2017-10-02 10:29:20  sitting    sitting  154558  116038      66     True\n",
      "3122999        0  2017-10-02 10:29:30  sitting    sitting  154558  116038      66     True\n",
      "3123000        0  2017-10-02 10:29:40  sitting    sitting  154558  116038      66     True\n",
      "3123001        0  2017-10-02 10:29:50  sitting    sitting  154558  116038      66     True\n",
      "3123002        0  2017-10-02 10:30:00  sitting    sitting  154558  116038      66     True\n",
      "3123003        0  2017-10-02 10:30:10  sitting    sitting  154558  116038      66     True\n",
      "3123004        0  2017-10-02 10:30:20  sitting    sitting  154558  116038      66     True\n",
      "3123005        0  2017-10-02 10:30:30  sitting    sitting  154558  116038      66     True\n"
     ]
    }
   ],
   "source": [
    "print(df_all_second_zero[(df_all_second_zero[\"oid\"] == \"154558\") & (df_all_second_zero[\"index\"] == 116038)].to_string())"
   ]
  },
  {
   "cell_type": "code",
   "execution_count": 122,
   "id": "2ced4ef8",
   "metadata": {
    "ExecuteTime": {
     "end_time": "2022-09-04T21:36:57.267460Z",
     "start_time": "2022-09-04T21:36:57.258063Z"
    }
   },
   "outputs": [
    {
     "data": {
      "text/plain": [
       "3.0"
      ]
     },
     "execution_count": 122,
     "metadata": {},
     "output_type": "execute_result"
    }
   ],
   "source": [
    "18 * 10 / 60"
   ]
  },
  {
   "cell_type": "code",
   "execution_count": 124,
   "id": "9e19a804",
   "metadata": {
    "ExecuteTime": {
     "end_time": "2022-09-04T21:42:51.120557Z",
     "start_time": "2022-09-04T21:42:47.251051Z"
    }
   },
   "outputs": [
    {
     "data": {
      "text/plain": [
       "segment       0.823398\n",
       "timestamp     0.823398\n",
       "label         0.823398\n",
       "prediction    0.823398\n",
       "oid           0.823398\n",
       "index         0.823398\n",
       "offset        0.823398\n",
       "correct       0.823398\n",
       "dtype: float64"
      ]
     },
     "execution_count": 124,
     "metadata": {},
     "output_type": "execute_result"
    }
   ],
   "source": [
    "df_all_second_zero[df_all_second_zero['label'] == \"sitting\"].count() / df_all_second_zero.count()"
   ]
  },
  {
   "cell_type": "code",
   "execution_count": 111,
   "id": "81877460",
   "metadata": {
    "ExecuteTime": {
     "end_time": "2022-09-04T21:29:36.684281Z",
     "start_time": "2022-09-04T21:29:22.267777Z"
    }
   },
   "outputs": [
    {
     "name": "stdout",
     "output_type": "stream",
     "text": [
      "0.842473800460548\n"
     ]
    }
   ],
   "source": [
    "print(accuracy_score(df_all_second_zero['label'], df_all_second_zero['prediction'])) "
   ]
  },
  {
   "cell_type": "code",
   "execution_count": 87,
   "id": "8a97ab69",
   "metadata": {
    "ExecuteTime": {
     "end_time": "2022-09-04T19:47:54.303804Z",
     "start_time": "2022-09-04T19:44:35.089299Z"
    }
   },
   "outputs": [
    {
     "name": "stderr",
     "output_type": "stream",
     "text": [
      "100%|██████████| 148953/148953 [03:17<00:00, 753.06it/s]\n"
     ]
    }
   ],
   "source": [
    "# preds_root = \"/mnt/nfs/niddk/ACT_PREDICTIONS_SAMPLED_WRAP/CHAP_ALL_ADULTS\"\n",
    "\n",
    "# all_preds = glob.glob(os.path.join(preds_root, \"*.csv\"))\n",
    "\n",
    "\n",
    "# pool = multiprocessing.Pool(processes=40)\n",
    "# df_list_all = list(tqdm(\n",
    "#     pool.imap_unordered(read_file, list(all_preds)), total=len(all_preds)))\n",
    "# pool.close()\n",
    "# pool.join()\n",
    "\n",
    "\n",
    "# # df_all_sec = pd.DataFrame()\n",
    "# # df_all_first = pd.DataFrame()\n",
    "# # df_all_list_first = []\n",
    "# # df_all_list_sec = []\n",
    "# # for predfile in tqdm(all_preds):\n",
    "# #     filename = os.path.basename(predfile).split('.')[0]\n",
    "# #     oid, index, offset = filename.split(\"_\")\n",
    "# #     index = int(index)\n",
    "# #     offset = int(offset)\n",
    "# #     df = pd.read_csv(predfile)\n",
    "# #     df['oid'] = oid\n",
    "# #     df['index'] = index\n",
    "# #     df['offset'] = offset\n",
    "# #     df_all_list_first.append(df.iloc[:42])\n",
    "# #     df_all_list_sec.append(df.iloc[42:])\n",
    "# #     df_all_first = pd.concat([df_all_first, df.iloc[:42]], ignore_index=True, sort=False)\n",
    "# #     df_all_sec = pd.concat([df_all_sec, df.iloc[42:]], ignore_index=True, sort=False)\n",
    "\n",
    "# #     df_score = df[df['label'] != \"no-label\"]\n",
    "# #     print(accuracy_score(df_score['label'], df_score['prediction']))"
   ]
  },
  {
   "cell_type": "code",
   "execution_count": 88,
   "id": "547a6890",
   "metadata": {
    "ExecuteTime": {
     "end_time": "2022-09-04T19:48:54.879230Z",
     "start_time": "2022-09-04T19:48:06.498959Z"
    }
   },
   "outputs": [],
   "source": []
  },
  {
   "cell_type": "code",
   "execution_count": 90,
   "id": "56d6e1e6",
   "metadata": {
    "ExecuteTime": {
     "end_time": "2022-09-04T19:49:49.486447Z",
     "start_time": "2022-09-04T19:49:24.574024Z"
    }
   },
   "outputs": [
    {
     "name": "stdout",
     "output_type": "stream",
     "text": [
      "0.8344052598246874\n"
     ]
    }
   ],
   "source": [
    "print(accuracy_score(df_all_first['label'], df_all_first['prediction'])) "
   ]
  },
  {
   "cell_type": "code",
   "execution_count": 91,
   "id": "5a5d39cb",
   "metadata": {
    "ExecuteTime": {
     "end_time": "2022-09-04T19:50:03.528055Z",
     "start_time": "2022-09-04T19:49:49.489741Z"
    }
   },
   "outputs": [
    {
     "name": "stdout",
     "output_type": "stream",
     "text": [
      "0.8339291588621914\n"
     ]
    }
   ],
   "source": [
    "print(accuracy_score(df_all_second['label'], df_all_second['prediction'])) "
   ]
  },
  {
   "cell_type": "code",
   "execution_count": 96,
   "id": "f80f93aa",
   "metadata": {
    "ExecuteTime": {
     "end_time": "2022-09-04T19:51:53.689181Z",
     "start_time": "2022-09-04T19:51:53.680117Z"
    },
    "scrolled": true
   },
   "outputs": [],
   "source": [
    "# df_oid_groupby = df_oid_groupby.reset_index()\n",
    "# df_7 = df_oid_groupby[df_oid_groupby.index.get_level_values(1) == 84]"
   ]
  },
  {
   "cell_type": "code",
   "execution_count": 97,
   "id": "a2503304",
   "metadata": {
    "ExecuteTime": {
     "end_time": "2022-09-04T19:51:58.312663Z",
     "start_time": "2022-09-04T19:51:58.290768Z"
    }
   },
   "outputs": [],
   "source": [
    "# df_rel = df_oid_groupby.reset_index(level=1).merge(df_7[['acc']], on=['oid'], suffixes=('', '7'))"
   ]
  },
  {
   "cell_type": "code",
   "execution_count": 98,
   "id": "8efe9158",
   "metadata": {
    "ExecuteTime": {
     "end_time": "2022-09-04T19:51:59.962921Z",
     "start_time": "2022-09-04T19:51:59.953810Z"
    }
   },
   "outputs": [],
   "source": [
    "# df_rel['rel_acc'] = df_rel['acc'] / df_rel['acc7']"
   ]
  },
  {
   "cell_type": "code",
   "execution_count": 99,
   "id": "4aa6de99",
   "metadata": {
    "ExecuteTime": {
     "end_time": "2022-09-04T19:52:01.361696Z",
     "start_time": "2022-09-04T19:52:01.339265Z"
    }
   },
   "outputs": [
    {
     "data": {
      "text/html": [
       "<div>\n",
       "<style scoped>\n",
       "    .dataframe tbody tr th:only-of-type {\n",
       "        vertical-align: middle;\n",
       "    }\n",
       "\n",
       "    .dataframe tbody tr th {\n",
       "        vertical-align: top;\n",
       "    }\n",
       "\n",
       "    .dataframe thead th {\n",
       "        text-align: right;\n",
       "    }\n",
       "</style>\n",
       "<table border=\"1\" class=\"dataframe\">\n",
       "  <thead>\n",
       "    <tr style=\"text-align: right;\">\n",
       "      <th></th>\n",
       "      <th>acc</th>\n",
       "      <th>rel_acc</th>\n",
       "    </tr>\n",
       "    <tr>\n",
       "      <th>offset</th>\n",
       "      <th></th>\n",
       "      <th></th>\n",
       "    </tr>\n",
       "  </thead>\n",
       "  <tbody>\n",
       "    <tr>\n",
       "      <th>48</th>\n",
       "      <td>0.843489</td>\n",
       "      <td>1.011368</td>\n",
       "    </tr>\n",
       "    <tr>\n",
       "      <th>54</th>\n",
       "      <td>0.836876</td>\n",
       "      <td>1.002768</td>\n",
       "    </tr>\n",
       "    <tr>\n",
       "      <th>60</th>\n",
       "      <td>0.832949</td>\n",
       "      <td>0.997630</td>\n",
       "    </tr>\n",
       "    <tr>\n",
       "      <th>66</th>\n",
       "      <td>0.831603</td>\n",
       "      <td>0.995735</td>\n",
       "    </tr>\n",
       "    <tr>\n",
       "      <th>72</th>\n",
       "      <td>0.831724</td>\n",
       "      <td>0.995741</td>\n",
       "    </tr>\n",
       "    <tr>\n",
       "      <th>78</th>\n",
       "      <td>0.833763</td>\n",
       "      <td>0.998050</td>\n",
       "    </tr>\n",
       "    <tr>\n",
       "      <th>84</th>\n",
       "      <td>0.835199</td>\n",
       "      <td>1.000000</td>\n",
       "    </tr>\n",
       "  </tbody>\n",
       "</table>\n",
       "</div>"
      ],
      "text/plain": [
       "             acc   rel_acc\n",
       "offset                    \n",
       "48      0.843489  1.011368\n",
       "54      0.836876  1.002768\n",
       "60      0.832949  0.997630\n",
       "66      0.831603  0.995735\n",
       "72      0.831724  0.995741\n",
       "78      0.833763  0.998050\n",
       "84      0.835199  1.000000"
      ]
     },
     "execution_count": 99,
     "metadata": {},
     "output_type": "execute_result"
    }
   ],
   "source": [
    "# df_rel.groupby('offset').agg({'acc': \"mean\", 'rel_acc': \"mean\"})"
   ]
  },
  {
   "cell_type": "code",
   "execution_count": 30,
   "id": "e815e4f1",
   "metadata": {
    "ExecuteTime": {
     "end_time": "2022-09-04T08:14:02.161516Z",
     "start_time": "2022-09-04T08:14:02.133559Z"
    }
   },
   "outputs": [],
   "source": [
    "# df_oid_groupby['rel_acc'] = df_oid_groupby['acc'] / df_7['acc']"
   ]
  },
  {
   "cell_type": "code",
   "execution_count": 100,
   "id": "538026e7",
   "metadata": {
    "ExecuteTime": {
     "end_time": "2022-09-04T19:52:24.880350Z",
     "start_time": "2022-09-04T19:52:24.861053Z"
    }
   },
   "outputs": [
    {
     "data": {
      "text/plain": [
       "oid     offset\n",
       "150011  84        0.733095\n",
       "150042  84        0.931429\n",
       "150110  84        0.909762\n",
       "150298  84        0.855000\n",
       "150515  84        0.868333\n",
       "                    ...   \n",
       "98455   84        0.951190\n",
       "99034   84        0.949524\n",
       "99040   84        0.964524\n",
       "99380   84        0.912381\n",
       "99423   84        0.823713\n",
       "Name: acc, Length: 213, dtype: float64"
      ]
     },
     "execution_count": 100,
     "metadata": {},
     "output_type": "execute_result"
    }
   ],
   "source": [
    "df_7['acc']"
   ]
  },
  {
   "cell_type": "code",
   "execution_count": null,
   "id": "0c4559f5",
   "metadata": {},
   "outputs": [],
   "source": []
  },
  {
   "cell_type": "code",
   "execution_count": null,
   "id": "50864f05",
   "metadata": {},
   "outputs": [],
   "source": []
  },
  {
   "cell_type": "code",
   "execution_count": 31,
   "id": "66b1d17b",
   "metadata": {
    "ExecuteTime": {
     "end_time": "2022-09-04T08:14:03.906986Z",
     "start_time": "2022-09-04T08:14:03.877869Z"
    }
   },
   "outputs": [
    {
     "data": {
      "text/html": [
       "<div>\n",
       "<style scoped>\n",
       "    .dataframe tbody tr th:only-of-type {\n",
       "        vertical-align: middle;\n",
       "    }\n",
       "\n",
       "    .dataframe tbody tr th {\n",
       "        vertical-align: top;\n",
       "    }\n",
       "\n",
       "    .dataframe thead th {\n",
       "        text-align: right;\n",
       "    }\n",
       "</style>\n",
       "<table border=\"1\" class=\"dataframe\">\n",
       "  <thead>\n",
       "    <tr style=\"text-align: right;\">\n",
       "      <th></th>\n",
       "      <th></th>\n",
       "      <th>correct</th>\n",
       "      <th>index</th>\n",
       "      <th>acc</th>\n",
       "      <th>rel_acc</th>\n",
       "    </tr>\n",
       "    <tr>\n",
       "      <th>oid</th>\n",
       "      <th>offset</th>\n",
       "      <th></th>\n",
       "      <th></th>\n",
       "      <th></th>\n",
       "      <th></th>\n",
       "    </tr>\n",
       "  </thead>\n",
       "  <tbody>\n",
       "    <tr>\n",
       "      <th rowspan=\"4\" valign=\"top\">150011</th>\n",
       "      <th>66</th>\n",
       "      <td>48</td>\n",
       "      <td>48</td>\n",
       "      <td>1.000000</td>\n",
       "      <td>NaN</td>\n",
       "    </tr>\n",
       "    <tr>\n",
       "      <th>72</th>\n",
       "      <td>30</td>\n",
       "      <td>60</td>\n",
       "      <td>0.500000</td>\n",
       "      <td>NaN</td>\n",
       "    </tr>\n",
       "    <tr>\n",
       "      <th>78</th>\n",
       "      <td>29</td>\n",
       "      <td>36</td>\n",
       "      <td>0.805556</td>\n",
       "      <td>NaN</td>\n",
       "    </tr>\n",
       "    <tr>\n",
       "      <th>84</th>\n",
       "      <td>126</td>\n",
       "      <td>126</td>\n",
       "      <td>1.000000</td>\n",
       "      <td>1.0</td>\n",
       "    </tr>\n",
       "    <tr>\n",
       "      <th>150042</th>\n",
       "      <th>48</th>\n",
       "      <td>6</td>\n",
       "      <td>6</td>\n",
       "      <td>1.000000</td>\n",
       "      <td>NaN</td>\n",
       "    </tr>\n",
       "    <tr>\n",
       "      <th>...</th>\n",
       "      <th>...</th>\n",
       "      <td>...</td>\n",
       "      <td>...</td>\n",
       "      <td>...</td>\n",
       "      <td>...</td>\n",
       "    </tr>\n",
       "    <tr>\n",
       "      <th rowspan=\"5\" valign=\"top\">99423</th>\n",
       "      <th>60</th>\n",
       "      <td>18</td>\n",
       "      <td>18</td>\n",
       "      <td>1.000000</td>\n",
       "      <td>NaN</td>\n",
       "    </tr>\n",
       "    <tr>\n",
       "      <th>66</th>\n",
       "      <td>24</td>\n",
       "      <td>48</td>\n",
       "      <td>0.500000</td>\n",
       "      <td>NaN</td>\n",
       "    </tr>\n",
       "    <tr>\n",
       "      <th>72</th>\n",
       "      <td>30</td>\n",
       "      <td>30</td>\n",
       "      <td>1.000000</td>\n",
       "      <td>NaN</td>\n",
       "    </tr>\n",
       "    <tr>\n",
       "      <th>78</th>\n",
       "      <td>36</td>\n",
       "      <td>36</td>\n",
       "      <td>1.000000</td>\n",
       "      <td>NaN</td>\n",
       "    </tr>\n",
       "    <tr>\n",
       "      <th>84</th>\n",
       "      <td>83</td>\n",
       "      <td>84</td>\n",
       "      <td>0.988095</td>\n",
       "      <td>1.0</td>\n",
       "    </tr>\n",
       "  </tbody>\n",
       "</table>\n",
       "<p>1054 rows × 4 columns</p>\n",
       "</div>"
      ],
      "text/plain": [
       "               correct  index       acc  rel_acc\n",
       "oid    offset                                   \n",
       "150011 66           48     48  1.000000      NaN\n",
       "       72           30     60  0.500000      NaN\n",
       "       78           29     36  0.805556      NaN\n",
       "       84          126    126  1.000000      1.0\n",
       "150042 48            6      6  1.000000      NaN\n",
       "...                ...    ...       ...      ...\n",
       "99423  60           18     18  1.000000      NaN\n",
       "       66           24     48  0.500000      NaN\n",
       "       72           30     30  1.000000      NaN\n",
       "       78           36     36  1.000000      NaN\n",
       "       84           83     84  0.988095      1.0\n",
       "\n",
       "[1054 rows x 4 columns]"
      ]
     },
     "execution_count": 31,
     "metadata": {},
     "output_type": "execute_result"
    }
   ],
   "source": [
    "df_oid_groupby"
   ]
  },
  {
   "cell_type": "code",
   "execution_count": 22,
   "id": "6001b5c8",
   "metadata": {
    "ExecuteTime": {
     "end_time": "2022-09-04T08:11:24.846156Z",
     "start_time": "2022-09-04T08:11:24.829820Z"
    }
   },
   "outputs": [
    {
     "data": {
      "text/html": [
       "<div>\n",
       "<style scoped>\n",
       "    .dataframe tbody tr th:only-of-type {\n",
       "        vertical-align: middle;\n",
       "    }\n",
       "\n",
       "    .dataframe tbody tr th {\n",
       "        vertical-align: top;\n",
       "    }\n",
       "\n",
       "    .dataframe thead th {\n",
       "        text-align: right;\n",
       "    }\n",
       "</style>\n",
       "<table border=\"1\" class=\"dataframe\">\n",
       "  <thead>\n",
       "    <tr style=\"text-align: right;\">\n",
       "      <th></th>\n",
       "      <th>oid</th>\n",
       "      <th>offset</th>\n",
       "      <th>correct</th>\n",
       "      <th>index</th>\n",
       "      <th>acc</th>\n",
       "    </tr>\n",
       "  </thead>\n",
       "  <tbody>\n",
       "    <tr>\n",
       "      <th>0</th>\n",
       "      <td>150011</td>\n",
       "      <td>66</td>\n",
       "      <td>48</td>\n",
       "      <td>48</td>\n",
       "      <td>1.000000</td>\n",
       "    </tr>\n",
       "    <tr>\n",
       "      <th>1</th>\n",
       "      <td>150011</td>\n",
       "      <td>72</td>\n",
       "      <td>30</td>\n",
       "      <td>60</td>\n",
       "      <td>0.500000</td>\n",
       "    </tr>\n",
       "    <tr>\n",
       "      <th>2</th>\n",
       "      <td>150011</td>\n",
       "      <td>78</td>\n",
       "      <td>29</td>\n",
       "      <td>36</td>\n",
       "      <td>0.805556</td>\n",
       "    </tr>\n",
       "    <tr>\n",
       "      <th>3</th>\n",
       "      <td>150011</td>\n",
       "      <td>84</td>\n",
       "      <td>126</td>\n",
       "      <td>126</td>\n",
       "      <td>1.000000</td>\n",
       "    </tr>\n",
       "    <tr>\n",
       "      <th>4</th>\n",
       "      <td>150042</td>\n",
       "      <td>48</td>\n",
       "      <td>6</td>\n",
       "      <td>6</td>\n",
       "      <td>1.000000</td>\n",
       "    </tr>\n",
       "    <tr>\n",
       "      <th>...</th>\n",
       "      <td>...</td>\n",
       "      <td>...</td>\n",
       "      <td>...</td>\n",
       "      <td>...</td>\n",
       "      <td>...</td>\n",
       "    </tr>\n",
       "    <tr>\n",
       "      <th>1049</th>\n",
       "      <td>99423</td>\n",
       "      <td>60</td>\n",
       "      <td>18</td>\n",
       "      <td>18</td>\n",
       "      <td>1.000000</td>\n",
       "    </tr>\n",
       "    <tr>\n",
       "      <th>1050</th>\n",
       "      <td>99423</td>\n",
       "      <td>66</td>\n",
       "      <td>24</td>\n",
       "      <td>48</td>\n",
       "      <td>0.500000</td>\n",
       "    </tr>\n",
       "    <tr>\n",
       "      <th>1051</th>\n",
       "      <td>99423</td>\n",
       "      <td>72</td>\n",
       "      <td>30</td>\n",
       "      <td>30</td>\n",
       "      <td>1.000000</td>\n",
       "    </tr>\n",
       "    <tr>\n",
       "      <th>1052</th>\n",
       "      <td>99423</td>\n",
       "      <td>78</td>\n",
       "      <td>36</td>\n",
       "      <td>36</td>\n",
       "      <td>1.000000</td>\n",
       "    </tr>\n",
       "    <tr>\n",
       "      <th>1053</th>\n",
       "      <td>99423</td>\n",
       "      <td>84</td>\n",
       "      <td>83</td>\n",
       "      <td>84</td>\n",
       "      <td>0.988095</td>\n",
       "    </tr>\n",
       "  </tbody>\n",
       "</table>\n",
       "<p>1054 rows × 5 columns</p>\n",
       "</div>"
      ],
      "text/plain": [
       "         oid  offset  correct  index       acc\n",
       "0     150011      66       48     48  1.000000\n",
       "1     150011      72       30     60  0.500000\n",
       "2     150011      78       29     36  0.805556\n",
       "3     150011      84      126    126  1.000000\n",
       "4     150042      48        6      6  1.000000\n",
       "...      ...     ...      ...    ...       ...\n",
       "1049   99423      60       18     18  1.000000\n",
       "1050   99423      66       24     48  0.500000\n",
       "1051   99423      72       30     30  1.000000\n",
       "1052   99423      78       36     36  1.000000\n",
       "1053   99423      84       83     84  0.988095\n",
       "\n",
       "[1054 rows x 5 columns]"
      ]
     },
     "execution_count": 22,
     "metadata": {},
     "output_type": "execute_result"
    }
   ],
   "source": [
    "df_oid_groupby"
   ]
  },
  {
   "cell_type": "code",
   "execution_count": 127,
   "id": "fcc5aeed",
   "metadata": {
    "ExecuteTime": {
     "end_time": "2022-09-04T21:50:22.102871Z",
     "start_time": "2022-09-04T21:50:22.083773Z"
    }
   },
   "outputs": [],
   "source": [
    "import matplotlib\n",
    "import matplotlib.font_manager\n",
    "from matplotlib import pyplot as plt\n",
    "import seaborn as sns\n",
    "class PlotterBase(object):\n",
    "    def __init__(\n",
    "            self,\n",
    "            xlabel=None,\n",
    "            ylabel=None,\n",
    "            title=None,\n",
    "            set_ticks=False,\n",
    "            figsize=(5, 5)):\n",
    "        self.fig, self.ax = plt.subplots(nrows=1, ncols=1, figsize=figsize)\n",
    "        self.ax.set_xlabel(xlabel)\n",
    "        self.ax.set_ylabel(ylabel)\n",
    "        self.ax.set_title(title)\n",
    "        self.set_ticks = set_ticks\n",
    "\n",
    "    def plot(self, x, *args, **kwargs):\n",
    "        self.ax.plot(x, linewidth=2, *args, **kwargs)\n",
    "        if self.set_ticks:\n",
    "            self.ax.set_xticks(x)\n",
    "\n",
    "    def conclude(self, loc=None):\n",
    "        self.ax.legend(ncol=2, loc=loc)\n",
    "        self.fig.tight_layout()\n",
    "\n",
    "    def save(self, path):\n",
    "        save_fig(self.fig, path)\n",
    "# font = {'size': 14}\n",
    "# matplotlib.rc('font', **font)\n",
    "matplotlib.rcParams.update({'font.size': 14})\n",
    "matplotlib.rc('pdf', fonttype=42)\n",
    "def save_fig(fig, path):\n",
    "    fig.savefig('{}.pdf'.format(path), transparent=True, bbox_inches='tight')\n",
    "    fig.savefig('{}.eps'.format(path), transparent=True, bbox_inches='tight')\n",
    "    fig.savefig('{}.png'.format(path), transparent=True,\n",
    "                bbox_inches='tight', dpi=600)"
   ]
  },
  {
   "cell_type": "code",
   "execution_count": 130,
   "id": "b48a6157",
   "metadata": {
    "ExecuteTime": {
     "end_time": "2022-09-04T21:50:56.855456Z",
     "start_time": "2022-09-04T21:50:55.380048Z"
    }
   },
   "outputs": [
    {
     "name": "stderr",
     "output_type": "stream",
     "text": [
      "The PostScript backend does not support transparency; partially transparent artists will be rendered opaque.\n",
      "The PostScript backend does not support transparency; partially transparent artists will be rendered opaque.\n"
     ]
    },
    {
     "data": {
      "image/png": "[encoded data removed]",
      "text/plain": [
       "<Figure size 500x500 with 1 Axes>"
      ]
     },
     "metadata": {},
     "output_type": "display_data"
    }
   ],
   "source": [
    "xs = sorted(list(accs.keys()))\n",
    "ys = [accs[x] for x in xs]\n",
    "\n",
    "palette = sns.color_palette(\"hls\", 2)\n",
    "matplotlib.rcParams['axes.prop_cycle'] = matplotlib.cycler(color=palette)\n",
    "line_fmts = ['v-', '^-']\n",
    "plot_e2e = PlotterBase(xlabel='Last Window Size (min)',\n",
    "                       ylabel='Test Accuracy',\n",
    "                       title='Last Window Accuracy',\n",
    "                       set_ticks=True)\n",
    "\n",
    "plot_e2e.plot(xs, ys, line_fmts[0], color=palette[0], ms=6, label=\"wrap\")\n",
    "\n",
    "xs_zero = sorted(list(accs_zero.keys()))\n",
    "ys_zero = [accs_zero[x] for x in xs_zero]\n",
    "plot_e2e.plot(xs_zero, ys_zero, line_fmts[1], color=palette[1], ms=6, label=\"zero\")\n",
    "plot_e2e.ax.legend(ncol=1, fontsize=12)\n",
    "save_fig(plot_e2e.fig, \"./last_window_acc\")"
   ]
  },
  {
   "cell_type": "code",
   "execution_count": 135,
   "id": "2aadbd1d",
   "metadata": {
    "ExecuteTime": {
     "end_time": "2022-09-04T21:56:13.637539Z",
     "start_time": "2022-09-04T21:56:13.609185Z"
    }
   },
   "outputs": [
    {
     "data": {
      "text/html": [
       "<div>\n",
       "<style scoped>\n",
       "    .dataframe tbody tr th:only-of-type {\n",
       "        vertical-align: middle;\n",
       "    }\n",
       "\n",
       "    .dataframe tbody tr th {\n",
       "        vertical-align: top;\n",
       "    }\n",
       "\n",
       "    .dataframe thead th {\n",
       "        text-align: right;\n",
       "    }\n",
       "</style>\n",
       "<table border=\"1\" class=\"dataframe\">\n",
       "  <thead>\n",
       "    <tr style=\"text-align: right;\">\n",
       "      <th></th>\n",
       "      <th>segment</th>\n",
       "      <th>timestamp</th>\n",
       "      <th>label</th>\n",
       "      <th>prediction</th>\n",
       "      <th>oid</th>\n",
       "      <th>index</th>\n",
       "      <th>offset</th>\n",
       "      <th>correct</th>\n",
       "    </tr>\n",
       "  </thead>\n",
       "  <tbody>\n",
       "    <tr>\n",
       "      <th>0</th>\n",
       "      <td>0</td>\n",
       "      <td>2017-10-02 10:26:40</td>\n",
       "      <td>sitting</td>\n",
       "      <td>sitting</td>\n",
       "      <td>154558</td>\n",
       "      <td>116038</td>\n",
       "      <td>60</td>\n",
       "      <td>True</td>\n",
       "    </tr>\n",
       "    <tr>\n",
       "      <th>1</th>\n",
       "      <td>0</td>\n",
       "      <td>2017-10-02 10:26:50</td>\n",
       "      <td>sitting</td>\n",
       "      <td>sitting</td>\n",
       "      <td>154558</td>\n",
       "      <td>116038</td>\n",
       "      <td>60</td>\n",
       "      <td>True</td>\n",
       "    </tr>\n",
       "    <tr>\n",
       "      <th>2</th>\n",
       "      <td>0</td>\n",
       "      <td>2017-10-02 10:27:00</td>\n",
       "      <td>sitting</td>\n",
       "      <td>sitting</td>\n",
       "      <td>154558</td>\n",
       "      <td>116038</td>\n",
       "      <td>60</td>\n",
       "      <td>True</td>\n",
       "    </tr>\n",
       "    <tr>\n",
       "      <th>3</th>\n",
       "      <td>0</td>\n",
       "      <td>2017-10-02 10:27:10</td>\n",
       "      <td>sitting</td>\n",
       "      <td>sitting</td>\n",
       "      <td>154558</td>\n",
       "      <td>116038</td>\n",
       "      <td>60</td>\n",
       "      <td>True</td>\n",
       "    </tr>\n",
       "    <tr>\n",
       "      <th>4</th>\n",
       "      <td>0</td>\n",
       "      <td>2017-10-02 10:27:20</td>\n",
       "      <td>sitting</td>\n",
       "      <td>sitting</td>\n",
       "      <td>154558</td>\n",
       "      <td>116038</td>\n",
       "      <td>60</td>\n",
       "      <td>True</td>\n",
       "    </tr>\n",
       "    <tr>\n",
       "      <th>...</th>\n",
       "      <td>...</td>\n",
       "      <td>...</td>\n",
       "      <td>...</td>\n",
       "      <td>...</td>\n",
       "      <td>...</td>\n",
       "      <td>...</td>\n",
       "      <td>...</td>\n",
       "      <td>...</td>\n",
       "    </tr>\n",
       "    <tr>\n",
       "      <th>3574867</th>\n",
       "      <td>0</td>\n",
       "      <td>2017-11-11 23:23:00</td>\n",
       "      <td>sitting</td>\n",
       "      <td>sitting</td>\n",
       "      <td>153769</td>\n",
       "      <td>112037</td>\n",
       "      <td>66</td>\n",
       "      <td>True</td>\n",
       "    </tr>\n",
       "    <tr>\n",
       "      <th>3574868</th>\n",
       "      <td>0</td>\n",
       "      <td>2017-11-11 23:23:10</td>\n",
       "      <td>sitting</td>\n",
       "      <td>sitting</td>\n",
       "      <td>153769</td>\n",
       "      <td>112037</td>\n",
       "      <td>66</td>\n",
       "      <td>True</td>\n",
       "    </tr>\n",
       "    <tr>\n",
       "      <th>3574869</th>\n",
       "      <td>0</td>\n",
       "      <td>2017-11-11 23:23:20</td>\n",
       "      <td>sitting</td>\n",
       "      <td>sitting</td>\n",
       "      <td>153769</td>\n",
       "      <td>112037</td>\n",
       "      <td>66</td>\n",
       "      <td>True</td>\n",
       "    </tr>\n",
       "    <tr>\n",
       "      <th>3574870</th>\n",
       "      <td>0</td>\n",
       "      <td>2017-11-11 23:23:30</td>\n",
       "      <td>sitting</td>\n",
       "      <td>sitting</td>\n",
       "      <td>153769</td>\n",
       "      <td>112037</td>\n",
       "      <td>66</td>\n",
       "      <td>True</td>\n",
       "    </tr>\n",
       "    <tr>\n",
       "      <th>3574871</th>\n",
       "      <td>0</td>\n",
       "      <td>2017-11-11 23:23:40</td>\n",
       "      <td>sitting</td>\n",
       "      <td>sitting</td>\n",
       "      <td>153769</td>\n",
       "      <td>112037</td>\n",
       "      <td>66</td>\n",
       "      <td>True</td>\n",
       "    </tr>\n",
       "  </tbody>\n",
       "</table>\n",
       "<p>3574872 rows × 8 columns</p>\n",
       "</div>"
      ],
      "text/plain": [
       "         segment            timestamp    label prediction     oid   index  \\\n",
       "0              0  2017-10-02 10:26:40  sitting    sitting  154558  116038   \n",
       "1              0  2017-10-02 10:26:50  sitting    sitting  154558  116038   \n",
       "2              0  2017-10-02 10:27:00  sitting    sitting  154558  116038   \n",
       "3              0  2017-10-02 10:27:10  sitting    sitting  154558  116038   \n",
       "4              0  2017-10-02 10:27:20  sitting    sitting  154558  116038   \n",
       "...          ...                  ...      ...        ...     ...     ...   \n",
       "3574867        0  2017-11-11 23:23:00  sitting    sitting  153769  112037   \n",
       "3574868        0  2017-11-11 23:23:10  sitting    sitting  153769  112037   \n",
       "3574869        0  2017-11-11 23:23:20  sitting    sitting  153769  112037   \n",
       "3574870        0  2017-11-11 23:23:30  sitting    sitting  153769  112037   \n",
       "3574871        0  2017-11-11 23:23:40  sitting    sitting  153769  112037   \n",
       "\n",
       "         offset  correct  \n",
       "0            60     True  \n",
       "1            60     True  \n",
       "2            60     True  \n",
       "3            60     True  \n",
       "4            60     True  \n",
       "...         ...      ...  \n",
       "3574867      66     True  \n",
       "3574868      66     True  \n",
       "3574869      66     True  \n",
       "3574870      66     True  \n",
       "3574871      66     True  \n",
       "\n",
       "[3574872 rows x 8 columns]"
      ]
     },
     "execution_count": 135,
     "metadata": {},
     "output_type": "execute_result"
    }
   ],
   "source": [
    "df_all_second_zero"
   ]
  },
  {
   "cell_type": "code",
   "execution_count": 148,
   "id": "d2e5b001",
   "metadata": {
    "ExecuteTime": {
     "end_time": "2022-09-04T22:15:19.331952Z",
     "start_time": "2022-09-04T22:15:18.555432Z"
    }
   },
   "outputs": [],
   "source": [
    "df_all_second_zero[\"minute_index\"] = df_all_second_zero.groupby([\"oid\", \"index\", \"offset\"]).cumcount()"
   ]
  },
  {
   "cell_type": "code",
   "execution_count": 170,
   "id": "6b064810",
   "metadata": {
    "ExecuteTime": {
     "end_time": "2022-09-04T22:29:45.392726Z",
     "start_time": "2022-09-04T22:29:44.365649Z"
    }
   },
   "outputs": [],
   "source": [
    "df_all_second_wrap[\"minute_index\"] = df_all_second_wrap.groupby([\"oid\", \"index\", \"offset\"]).cumcount()"
   ]
  },
  {
   "cell_type": "code",
   "execution_count": 171,
   "id": "affb791b",
   "metadata": {
    "ExecuteTime": {
     "end_time": "2022-09-04T22:29:48.704445Z",
     "start_time": "2022-09-04T22:29:48.696015Z"
    }
   },
   "outputs": [],
   "source": [
    "def get_df_min(minute, df_all_second):\n",
    "    start_index = (minute - 1) * 6\n",
    "    end_index = minute * 6\n",
    "    df_min = df_all_second[\n",
    "        (start_index <= df_all_second['minute_index'])\n",
    "        & (df_all_second['minute_index'] < end_index)]\n",
    "    accs_min = get_acc(df_min)\n",
    "    return accs_min"
   ]
  },
  {
   "cell_type": "code",
   "execution_count": 200,
   "id": "5ca2aef3",
   "metadata": {
    "ExecuteTime": {
     "end_time": "2022-09-04T22:57:05.009564Z",
     "start_time": "2022-09-04T22:56:21.408364Z"
    }
   },
   "outputs": [
    {
     "name": "stderr",
     "output_type": "stream",
     "text": [
      "The PostScript backend does not support transparency; partially transparent artists will be rendered opaque.\n",
      "The PostScript backend does not support transparency; partially transparent artists will be rendered opaque.\n",
      "The PostScript backend does not support transparency; partially transparent artists will be rendered opaque.\n",
      "The PostScript backend does not support transparency; partially transparent artists will be rendered opaque.\n",
      "The PostScript backend does not support transparency; partially transparent artists will be rendered opaque.\n",
      "The PostScript backend does not support transparency; partially transparent artists will be rendered opaque.\n",
      "The PostScript backend does not support transparency; partially transparent artists will be rendered opaque.\n",
      "The PostScript backend does not support transparency; partially transparent artists will be rendered opaque.\n",
      "The PostScript backend does not support transparency; partially transparent artists will be rendered opaque.\n",
      "The PostScript backend does not support transparency; partially transparent artists will be rendered opaque.\n",
      "The PostScript backend does not support transparency; partially transparent artists will be rendered opaque.\n",
      "The PostScript backend does not support transparency; partially transparent artists will be rendered opaque.\n",
      "The PostScript backend does not support transparency; partially transparent artists will be rendered opaque.\n",
      "The PostScript backend does not support transparency; partially transparent artists will be rendered opaque.\n"
     ]
    },
    {
     "data": {
      "image/png": "[encoded data removed]",
      "text/plain": [
       "<Figure size 3000x1500 with 8 Axes>"
      ]
     },
     "metadata": {},
     "output_type": "display_data"
    }
   ],
   "source": [
    "palette = sns.color_palette(\"hls\", 2)\n",
    "matplotlib.rcParams['axes.prop_cycle'] = matplotlib.cycler(color=palette)\n",
    "line_fmts = ['v-', '^-']\n",
    "fig, axes = plt.subplots(nrows=2, ncols=4, figsize=(30, 15))\n",
    "axes[-1][-1].set_axis_off()\n",
    "matplotlib.rcParams.update({'font.size': 18})\n",
    "matplotlib.rc('pdf', fonttype=42)\n",
    "for minute, ax in zip(np.array([x for x in range(1, 8)]), axes.flatten()):\n",
    "#     plot_e2e = PlotterBase(xlabel='Last Window Size (min)',\n",
    "#                                ylabel='Test Accuracy',\n",
    "#                                title='Last Window Min-{} Accuracy'.format(minute),\n",
    "#                                set_ticks=True)\n",
    "#     name = \"last_window_acc_{}\".format(minute)\n",
    "    for df_all_second, color, fmt, label in zip([df_all_second_wrap, df_all_second_zero], palette, line_fmts, ['wrap', 'zero']):\n",
    "        accs_min = get_df_min(minute, df_all_second)\n",
    "        xs = sorted(list(accs_min.keys()))\n",
    "        ys = [accs_min[x] for x in xs]\n",
    "\n",
    "        ax.plot(xs, ys, fmt, linewidth=4, color=color, ms=12, label=label)\n",
    "        ax.set_xticks(xs)\n",
    "        ax.set_xlabel(\"Last Window Size (min)\")\n",
    "        ax.set_ylabel(\"Test Accuracy\")\n",
    "        ax.set_title(\"Min-{}\".format(minute))\n",
    "        ax.legend(ncol=1, fontsize=18)\n",
    "        ax.tick_params(axis='both', which='major', labelsize=18)\n",
    "        ax.tick_params(axis='both', which='minor', labelsize=16)\n",
    "        ax.set_ylim(0.8, 0.92)\n",
    "#     save_fig(plot_e2e.fig, \"./figures/{}\".format(name))\n",
    "fig.suptitle('Accuracy for Each Minute of the Last Window', fontsize=20)\n",
    "save_fig(fig, \"./figures/last_window_acc_per_minute\")"
   ]
  },
  {
   "cell_type": "code",
   "execution_count": 189,
   "id": "2fd98351",
   "metadata": {
    "ExecuteTime": {
     "end_time": "2022-09-04T22:42:42.791743Z",
     "start_time": "2022-09-04T22:42:42.780621Z"
    }
   },
   "outputs": [
    {
     "data": {
      "text/plain": [
       "Text(0.5, 0.98, 'Last Window Accuracy Per Minute')"
      ]
     },
     "execution_count": 189,
     "metadata": {},
     "output_type": "execute_result"
    }
   ],
   "source": [
    "fig.suptitle('Last Window Accuracy Per Minute', fontsize=16)"
   ]
  }
 ],
 "metadata": {
  "kernelspec": {
   "display_name": "env_dgl",
   "language": "python",
   "name": "env_dgl"
  },
  "language_info": {
   "codemirror_mode": {
    "name": "ipython",
    "version": 3
   },
   "file_extension": ".py",
   "mimetype": "text/x-python",
   "name": "python",
   "nbconvert_exporter": "python",
   "pygments_lexer": "ipython3",
   "version": "3.8.10"
  }
 },
 "nbformat": 4,
 "nbformat_minor": 5
}
